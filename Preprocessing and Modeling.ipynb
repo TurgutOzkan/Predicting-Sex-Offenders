{
 "cells": [
  {
   "cell_type": "code",
   "execution_count": 1,
   "metadata": {
    "collapsed": false
   },
   "outputs": [
    {
     "data": {
      "application/javascript": [
       "IPython.notebook.set_autosave_interval(60000)"
      ]
     },
     "metadata": {},
     "output_type": "display_data"
    },
    {
     "name": "stdout",
     "output_type": "stream",
     "text": [
      "Autosaving every 60 seconds\n"
     ]
    }
   ],
   "source": [
    "%autosave 60\n",
    "%matplotlib inline\n",
    "import pandas as pd\n",
    "import numpy as np\n",
    "import matplotlib.pyplot as plt\n",
    "sof1 = pd.read_csv(\"D:/OneDrive/jwd/Research_Data/FJJD_Sex_Offender_Prediction/JSO_Recidivism_Sample_File.csv\")\n",
    "sof2 = pd.read_csv(\"D:/OneDrive/jwd/Research_Data/FJJD_Sex_Offender_Prediction/JSO_Recidivism_Sample_File_2nd.csv\")\n",
    "sof = sof1.append(sof2,ignore_index=True)\n",
    "\n",
    "\n",
    "sof.drop('sexrediccharge', axis=1, inplace=True)\n",
    "sof.drop('d91q7a6', axis=1, inplace=True)\n",
    "\n",
    "sof.djjid = sof.djjid.astype(str)\n",
    "\n",
    "sof.dob=pd.to_datetime(sof.dob) # converts datetime format\n",
    "from datetime import date\n",
    "sof.today=pd.to_datetime(date.today())\n",
    "\n",
    "age_in_years= (sof.today - sof.dob)\n",
    "age_in_years [2]\n",
    "\n",
    "counties=pd.get_dummies(sof.homecnty, prefix='county')\n",
    "counties.shape\n",
    "\n",
    "days=[int(i.days) for i in (sof.today - sof.dob)]\n",
    "df = pd.DataFrame([pd.Series(days)]).T\n",
    "\n",
    "sof['age_in_days'] = df[0]\n",
    "\n",
    "sof['age_in_years']= np.round(sof.age_in_days.astype(float)/365, 2)\n",
    "#sof.age_in_years\n",
    "\n",
    "sof = sof.join(counties)\n",
    "sof.shape\n",
    "\n",
    "judcir = pd.get_dummies(sof.jcircuit, prefix='judicial_circuit')\n",
    "sof = sof.join(judcir)\n",
    "offen46 = pd.get_dummies(sof.offen46, prefix='offen46')\n",
    "\n",
    "sof = sof.join(offen46)\n",
    "sof['initial_sexcat'] =sof.category.map({1:1, 2:0})\n",
    "sof['initial_sexcat'].value_counts(dropna=False)\n",
    "\n",
    "degree = pd.get_dummies(sof.degree, prefix='degree')\n",
    "degree.shape\n",
    "\n",
    "sof = sof.join(degree)"
   ]
  },
  {
   "cell_type": "code",
   "execution_count": 2,
   "metadata": {
    "collapsed": false
   },
   "outputs": [
    {
     "data": {
      "text/plain": [
       "(2000, 663)"
      ]
     },
     "execution_count": 2,
     "metadata": {},
     "output_type": "execute_result"
    }
   ],
   "source": [
    "sof.shape"
   ]
  },
  {
   "cell_type": "code",
   "execution_count": 3,
   "metadata": {
    "collapsed": false
   },
   "outputs": [],
   "source": [
    "# LASSO RESULTS *** I run all variables and they seem to be most important ones.\n",
    "\n",
    "X=[ \n",
    " 'd62q5a2',  \n",
    "'d11q5a5',  \n",
    "'d10q2a4', \n",
    "\n",
    "              'd12q8a3',\n",
    "              'd32q6a3', \n",
    "       \n",
    "              'd10q8a3', \n",
    "              'd91q8a1', \n",
    "              'd1q6a1',   \n",
    "              'd12q5a2', \n",
    "              'd32q8a1', \n",
    "              'ageat1stsexoff',   \n",
    "              'd12q2a2', \n",
    "              'judicial_circuit_1',\n",
    "              'judicial_circuit_10',\n",
    "              'd91q10a1',  \n",
    "              'd11q3a3', \n",
    "              'd31q1a2', \n",
    "              'judicial_circuit_4',\n",
    "              'd10q11a3',\n",
    "              'd12q10a3', \n",
    "             'daystorecid',  \n",
    "            \n",
    "            'd32q10a3', \n",
    "              'd32q10a5',\n",
    "              'd10q1a3', \n",
    "              'd32q5a2', \n",
    "              'd32q8a4', \n",
    " \n",
    "              'd11q5a6',\n",
    "              'd72q4a2',\n",
    "              'youthgender', \n",
    "              'd10q2a3',\n",
    "      \n",
    "              'd32q4a1',\n",
    "              'd32q9a3', \n",
    "              'd81q2a2', \n",
    "              'd11q6a7',\n",
    "              'judicial_circuit_7', \n",
    "              'd1q8a3',\n",
    "            \n",
    "            'd1q10a2', \n",
    "              'd52q1a3', \n",
    "\n",
    "              'd62q3a1', \n",
    "              'd92q2a1', \n",
    "\n",
    "\n",
    "\n",
    "              'd72q1a4', \n",
    "\n",
    "              'd92q2a3', \n",
    "\n",
    "\n",
    "              'd1q4a1',\n",
    "\n",
    "\n",
    "              'd92q2a2', \n",
    "\n",
    "\n",
    "              'd62q3a3', \n",
    "              'd11q6a4',\n",
    "             'd42q1a4', \n",
    "\n",
    "\n",
    "              'd91q1a6',\n",
    "              'd72q1a5',\n",
    "              'd92q1a1', \n",
    "              'd91q11a2', \n",
    "              'd42q2a3',\n",
    "              'd72q1a12',\n",
    "'d52q2a5',\n",
    "'d91q5a1', \n",
    "'d72q1a15',            \n",
    "'offen46_5',\n",
    "'county_12', \n",
    "'county_5', \n",
    "'county_25' ]\n",
    "X = pd.DataFrame(sof, columns=[X])\n",
    "y = sof.ix[:,1]"
   ]
  },
  {
   "cell_type": "code",
   "execution_count": 4,
   "metadata": {
    "collapsed": false
   },
   "outputs": [
    {
     "name": "stdout",
     "output_type": "stream",
     "text": [
      "(2000, 60)\n",
      "0    1830\n",
      "1     170\n",
      "Name: sexrecidivism, dtype: int64\n"
     ]
    }
   ],
   "source": [
    "print X.shape\n",
    "print y.value_counts()"
   ]
  },
  {
   "cell_type": "markdown",
   "metadata": {
    "collapsed": false
   },
   "source": [
    "# Normal Sampling"
   ]
  },
  {
   "cell_type": "code",
   "execution_count": 5,
   "metadata": {
    "collapsed": false
   },
   "outputs": [
    {
     "name": "stdout",
     "output_type": "stream",
     "text": [
      "(1400, 60)\n",
      "(600, 60)\n"
     ]
    },
    {
     "name": "stderr",
     "output_type": "stream",
     "text": [
      "C:\\Anaconda3\\envs\\py27\\lib\\site-packages\\sklearn\\cross_validation.py:44: DeprecationWarning: This module was deprecated in version 0.18 in favor of the model_selection module into which all the refactored classes and functions are moved. Also note that the interface of the new CV iterators are different from that of this module. This module will be removed in 0.20.\n",
      "  \"This module will be removed in 0.20.\", DeprecationWarning)\n"
     ]
    }
   ],
   "source": [
    "from sklearn.cross_validation import train_test_split\n",
    "X_train, X_test, y_train, y_test = train_test_split(X, y, test_size=0.30, random_state=3)\n",
    "print(X_train.shape)\n",
    "print (X_test.shape)"
   ]
  },
  {
   "cell_type": "code",
   "execution_count": 6,
   "metadata": {
    "collapsed": false
   },
   "outputs": [
    {
     "name": "stdout",
     "output_type": "stream",
     "text": [
      "0    549\n",
      "1     51\n",
      "Name: sexrecidivism, dtype: int64\n"
     ]
    }
   ],
   "source": [
    "print y_test.value_counts()"
   ]
  },
  {
   "cell_type": "markdown",
   "metadata": {},
   "source": [
    "# GRADIENT BOOSTING--Normal Sample"
   ]
  },
  {
   "cell_type": "markdown",
   "metadata": {},
   "source": [
    "Running the Suggested Model"
   ]
  },
  {
   "cell_type": "code",
   "execution_count": 147,
   "metadata": {
    "collapsed": false
   },
   "outputs": [
    {
     "name": "stdout",
     "output_type": "stream",
     "text": [
      "1.0\n",
      "Test_Score: 0.93\n",
      "0.865352334012\n"
     ]
    }
   ],
   "source": [
    "from sklearn.ensemble import GradientBoostingClassifier\n",
    "from sklearn import metrics\n",
    "GB = GradientBoostingClassifier(n_estimators=70, max_depth=10, min_samples_split=8, random_state=3)\n",
    "GB.fit(X_train, y_train)\n",
    "y_train_hat_GB = GB.predict(X_train)\n",
    "print(metrics.accuracy_score(y_train, y_train_hat_GB))\n",
    "y_test_hat_GB = GB.predict(X_test)\n",
    "print  \"Test_Score:\", (metrics.accuracy_score(y_test, y_test_hat_GB))\n",
    "# predict probability of rearrest\n",
    "y_pred_prob_gb = GB.predict_proba(X_test)[:,1] \n",
    "# calculate AUC\n",
    "print metrics.roc_auc_score(y_test, y_pred_prob_gb)"
   ]
  },
  {
   "cell_type": "code",
   "execution_count": 148,
   "metadata": {
    "collapsed": false
   },
   "outputs": [
    {
     "data": {
      "text/html": [
       "<div>\n",
       "<table border=\"1\" class=\"dataframe\">\n",
       "  <thead>\n",
       "    <tr style=\"text-align: right;\">\n",
       "      <th>Predicted</th>\n",
       "      <th>0</th>\n",
       "      <th>1</th>\n",
       "      <th>All</th>\n",
       "    </tr>\n",
       "    <tr>\n",
       "      <th>True</th>\n",
       "      <th></th>\n",
       "      <th></th>\n",
       "      <th></th>\n",
       "    </tr>\n",
       "  </thead>\n",
       "  <tbody>\n",
       "    <tr>\n",
       "      <th>0</th>\n",
       "      <td>535</td>\n",
       "      <td>14</td>\n",
       "      <td>549</td>\n",
       "    </tr>\n",
       "    <tr>\n",
       "      <th>1</th>\n",
       "      <td>28</td>\n",
       "      <td>23</td>\n",
       "      <td>51</td>\n",
       "    </tr>\n",
       "    <tr>\n",
       "      <th>All</th>\n",
       "      <td>563</td>\n",
       "      <td>37</td>\n",
       "      <td>600</td>\n",
       "    </tr>\n",
       "  </tbody>\n",
       "</table>\n",
       "</div>"
      ],
      "text/plain": [
       "Predicted    0   1  All\n",
       "True                   \n",
       "0          535  14  549\n",
       "1           28  23   51\n",
       "All        563  37  600"
      ]
     },
     "execution_count": 148,
     "metadata": {},
     "output_type": "execute_result"
    }
   ],
   "source": [
    "gb=pd.crosstab(y_test, y_test_hat_GB, rownames=['True'], colnames=['Predicted'], margins=True)\n",
    "gb"
   ]
  },
  {
   "cell_type": "code",
   "execution_count": 9,
   "metadata": {
    "collapsed": false
   },
   "outputs": [
    {
     "name": "stdout",
     "output_type": "stream",
     "text": [
      "True Negative: (TN) 535\n",
      "True Positive (TP): 23\n",
      "False Negative (FN): 28\n",
      "False Positive (FP): 14\n",
      "('Sensitivity-True positive rate (TPR) (Hit Rate or Recall)', 0.451)\n",
      "Precision or positive predictive value (PPV) 0.622\n",
      "Specificity-True Negative Rate (TNR) 0.974\n",
      "False Negative Rate (FNR) (Miss Rate) 0.549\n",
      "False Positive Rate (FPR) (Fall-out Rate) 0.026\n"
     ]
    }
   ],
   "source": [
    "TN = gb[0][0]\n",
    "FN = gb[0][1]\n",
    "FP = gb[1][0]\n",
    "TP = gb[1][1]\n",
    "print \"True Negative: (TN)\", TN \n",
    "print \"True Positive (TP):\", TP \n",
    "print \"False Negative (FN):\", FN \n",
    "print \"False Positive (FP):\", FP \n",
    "from __future__ import division\n",
    "print( \"Sensitivity-True positive rate (TPR) (Hit Rate or Recall)\", round(TP/(TP+FN),3) )\n",
    "print \"Precision or positive predictive value (PPV)\", round(TP/(TP+FP),3)\n",
    "print \"Specificity-True Negative Rate (TNR)\", round(TN/(TN+FP),3) \n",
    "print \"False Negative Rate (FNR) (Miss Rate)\", round(FN/(FN+TP),3) \n",
    "print \"False Positive Rate (FPR) (Fall-out Rate)\", round(FP/(FP+TN),3) \n",
    "FPR=round(FP/(FP+TN),3) "
   ]
  },
  {
   "cell_type": "code",
   "execution_count": 10,
   "metadata": {
    "collapsed": false
   },
   "outputs": [
    {
     "data": {
      "text/plain": [
       "<matplotlib.text.Text at 0xd9fdac8>"
      ]
     },
     "execution_count": 10,
     "metadata": {},
     "output_type": "execute_result"
    },
    {
     "data": {
      "image/png": "[encoded data removed]",
      "text/plain": [
       "<matplotlib.figure.Figure at 0xdab16a0>"
      ]
     },
     "metadata": {},
     "output_type": "display_data"
    }
   ],
   "source": [
    "# plot ROC curve\n",
    "fpr, tpr, thresholds = metrics.roc_curve(y_test, y_pred_prob_gb)\n",
    "plt.plot(fpr, tpr)\n",
    "plt.xlim([0.0, 1.0])\n",
    "plt.ylim([0.0, 1.0])\n",
    "plt.xlabel('False Positive Rate (1 - Specificity)')\n",
    "plt.ylabel('True Positive Rate (Sensitivity)')"
   ]
  },
  {
   "cell_type": "markdown",
   "metadata": {
    "collapsed": false
   },
   "source": [
    "# Logistic Regression--Normal Sample"
   ]
  },
  {
   "cell_type": "markdown",
   "metadata": {},
   "source": [
    "# Logisic Regression GridSearch"
   ]
  },
  {
   "cell_type": "code",
   "execution_count": 12,
   "metadata": {
    "collapsed": false
   },
   "outputs": [
    {
     "name": "stdout",
     "output_type": "stream",
     "text": [
      "Best: 0.211765 using {'penalty': 'l1'}\n",
      "0.211765 (0.079792) with: {'penalty': 'l1'}\n",
      "0.194118 (0.083397) with: {'penalty': 'l2'}\n"
     ]
    }
   ],
   "source": [
    "# Logistic regression does not have as many parameters as other algorithms as to fine-tune. Still, I fine-tune L1 and L2.\n",
    "penalty='l2'\n",
    "from sklearn.linear_model import LogisticRegression\n",
    "from sklearn import metrics\n",
    "from sklearn.grid_search import GridSearchCV\n",
    "lg = LogisticRegression(random_state=3 ) \n",
    "param_grid = { \"penalty\" : ['l1', 'l2'] } \n",
    "grid_search = GridSearchCV(estimator=lg, param_grid=param_grid, cv=10, scoring = 'recall') \n",
    "grid_search.fit(X, y)\n",
    "#summarize results\n",
    "print(\"Best: %f using %s\" % (grid_search.best_score_, grid_search.best_params_)) \n",
    "for params, mean_score, scores in grid_search.grid_scores_: \n",
    "    print(\"%f (%f) with: %r\" % (scores.mean(), scores.std(), params))"
   ]
  },
  {
   "cell_type": "markdown",
   "metadata": {},
   "source": [
    "Running the suggested model on normal sample (no probability-adjusted)"
   ]
  },
  {
   "cell_type": "code",
   "execution_count": 15,
   "metadata": {
    "collapsed": false
   },
   "outputs": [
    {
     "name": "stdout",
     "output_type": "stream",
     "text": [
      "Train_Accuracy 0.939285714286\n",
      "Test_Accuracy: 0.916666666667\n",
      "CORRECT_AUC_USING_PROB 0.796992749741\n"
     ]
    }
   ],
   "source": [
    "from sklearn.linear_model import LogisticRegression\n",
    "from sklearn import metrics\n",
    "logreg = LogisticRegression(penalty= 'l1', random_state=3 )\n",
    "logreg.fit(X_train, y_train)\n",
    "y_hat_train_log = logreg.predict(X_train)\n",
    "print \"Train_Accuracy\", metrics.accuracy_score(y_train, y_hat_train_log)\n",
    "y_test_hat_log = logreg.predict(X_test )\n",
    "print \"Test_Accuracy:\", metrics.accuracy_score(y_test, y_test_hat_log)  \n",
    "\n",
    "# predict probability of rearrest\n",
    "y_test_prob_log = logreg.predict_proba(X_test )[:, 1]\n",
    "\n",
    "# calculate AUC\n",
    "print \"CORRECT_AUC_USING_PROB\", metrics.roc_auc_score(y_test, y_test_prob_log)"
   ]
  },
  {
   "cell_type": "code",
   "execution_count": 16,
   "metadata": {
    "collapsed": false
   },
   "outputs": [
    {
     "data": {
      "text/html": [
       "<div>\n",
       "<table border=\"1\" class=\"dataframe\">\n",
       "  <thead>\n",
       "    <tr style=\"text-align: right;\">\n",
       "      <th>Predicted</th>\n",
       "      <th>0</th>\n",
       "      <th>1</th>\n",
       "      <th>All</th>\n",
       "    </tr>\n",
       "    <tr>\n",
       "      <th>True</th>\n",
       "      <th></th>\n",
       "      <th></th>\n",
       "      <th></th>\n",
       "    </tr>\n",
       "  </thead>\n",
       "  <tbody>\n",
       "    <tr>\n",
       "      <th>0</th>\n",
       "      <td>542</td>\n",
       "      <td>7</td>\n",
       "      <td>549</td>\n",
       "    </tr>\n",
       "    <tr>\n",
       "      <th>1</th>\n",
       "      <td>43</td>\n",
       "      <td>8</td>\n",
       "      <td>51</td>\n",
       "    </tr>\n",
       "    <tr>\n",
       "      <th>All</th>\n",
       "      <td>585</td>\n",
       "      <td>15</td>\n",
       "      <td>600</td>\n",
       "    </tr>\n",
       "  </tbody>\n",
       "</table>\n",
       "</div>"
      ],
      "text/plain": [
       "Predicted    0   1  All\n",
       "True                   \n",
       "0          542   7  549\n",
       "1           43   8   51\n",
       "All        585  15  600"
      ]
     },
     "execution_count": 16,
     "metadata": {},
     "output_type": "execute_result"
    }
   ],
   "source": [
    "log=pd.crosstab(y_test, y_test_hat_log, rownames=['True'], colnames=['Predicted'], margins=True)\n",
    "log"
   ]
  },
  {
   "cell_type": "code",
   "execution_count": 17,
   "metadata": {
    "collapsed": false
   },
   "outputs": [
    {
     "name": "stdout",
     "output_type": "stream",
     "text": [
      "True Negative: (TN) 542\n",
      "True Positive (TP): 8\n",
      "False Negative (FN): 43\n",
      "False Positive (FP): 7\n",
      "Sensitivity-True positive rate (TPR) (Hit Rate or Recall 0.157\n",
      "Precision or positive predictive value (PPV) 0.533\n",
      "Specificity-True Negative Rate (TNR) 0.987\n",
      "False Negative Rate (FNR) (Miss Rate) 0.843\n",
      "False Positive Rate (FPR) (Fall-out Rate) 0.013\n"
     ]
    }
   ],
   "source": [
    "TN = log[0][0]\n",
    "FN = log[0][1]\n",
    "FP = log[1][0]\n",
    "TP = log[1][1]\n",
    "print \"True Negative: (TN)\", TN \n",
    "print \"True Positive (TP):\", TP \n",
    "print \"False Negative (FN):\", FN \n",
    "print \"False Positive (FP):\", FP \n",
    "from __future__ import division\n",
    "print \"Sensitivity-True positive rate (TPR) (Hit Rate or Recall\", round(TP/(TP+FN),3) \n",
    "print \"Precision or positive predictive value (PPV)\", round(TP/(TP+FP),3)\n",
    "print \"Specificity-True Negative Rate (TNR)\", round(TN/(TN+FP),3) \n",
    "print \"False Negative Rate (FNR) (Miss Rate)\", round(FN/(FN+TP),3) \n",
    "print \"False Positive Rate (FPR) (Fall-out Rate)\", round(FP/(FP+TN),3) \n",
    "FPR=round(FP/(FP+TN),3) "
   ]
  },
  {
   "cell_type": "code",
   "execution_count": 18,
   "metadata": {
    "collapsed": false
   },
   "outputs": [
    {
     "data": {
      "text/plain": [
       "<matplotlib.text.Text at 0xe2f2240>"
      ]
     },
     "execution_count": 18,
     "metadata": {},
     "output_type": "execute_result"
    },
    {
     "data": {
      "image/png": "[encoded data removed]",
      "text/plain": [
       "<matplotlib.figure.Figure at 0xe2c9fd0>"
      ]
     },
     "metadata": {},
     "output_type": "display_data"
    }
   ],
   "source": [
    "# plot ROC curve\n",
    "fpr, tpr, thresholds = metrics.roc_curve(y_test, y_test_prob_log)\n",
    "plt.plot(fpr, tpr)\n",
    "plt.xlim([0.0, 1.0])\n",
    "plt.ylim([0.0, 1.0])\n",
    "plt.xlabel('False Positive Rate (1 - Specificity)')\n",
    "plt.ylabel('True Positive Rate (Sensitivity)')"
   ]
  },
  {
   "cell_type": "markdown",
   "metadata": {
    "collapsed": false
   },
   "source": [
    "# Random Forests-Normal Sample "
   ]
  },
  {
   "cell_type": "markdown",
   "metadata": {},
   "source": [
    "# Random Forest Grid Search"
   ]
  },
  {
   "cell_type": "code",
   "execution_count": 22,
   "metadata": {
    "collapsed": false
   },
   "outputs": [
    {
     "name": "stdout",
     "output_type": "stream",
     "text": [
      "Best: 0.928500 using {'max_features': 'auto', 'n_estimators': 50, 'max_depth': 10}\n",
      "0.928500 (0.007762) with: {'max_features': 'auto', 'n_estimators': 50, 'max_depth': 10}\n",
      "0.928000 (0.007483) with: {'max_features': 'auto', 'n_estimators': 60, 'max_depth': 10}\n",
      "0.927500 (0.005590) with: {'max_features': 'auto', 'n_estimators': 70, 'max_depth': 10}\n",
      "0.927000 (0.005568) with: {'max_features': 'auto', 'n_estimators': 100, 'max_depth': 10}\n",
      "0.928500 (0.007762) with: {'max_features': 'sqrt', 'n_estimators': 50, 'max_depth': 10}\n",
      "0.928000 (0.007483) with: {'max_features': 'sqrt', 'n_estimators': 60, 'max_depth': 10}\n",
      "0.927500 (0.005590) with: {'max_features': 'sqrt', 'n_estimators': 70, 'max_depth': 10}\n",
      "0.927000 (0.005568) with: {'max_features': 'sqrt', 'n_estimators': 100, 'max_depth': 10}\n",
      "0.921500 (0.003905) with: {'max_features': 'log2', 'n_estimators': 50, 'max_depth': 10}\n",
      "0.922000 (0.004000) with: {'max_features': 'log2', 'n_estimators': 60, 'max_depth': 10}\n",
      "0.922000 (0.004000) with: {'max_features': 'log2', 'n_estimators': 70, 'max_depth': 10}\n",
      "0.922000 (0.004583) with: {'max_features': 'log2', 'n_estimators': 100, 'max_depth': 10}\n"
     ]
    }
   ],
   "source": [
    "from sklearn import metrics \n",
    "from sklearn.grid_search import GridSearchCV \n",
    "from sklearn.ensemble import RandomForestClassifier \n",
    "forest = RandomForestClassifier(n_estimators =100 , max_depth=10, random_state=3) # n_estimators are the number of trees \n",
    "param_grid = { 'n_estimators': [50, 60, 70, 100], \n",
    "              'max_features': ['auto', 'sqrt', 'log2'], \n",
    "              'max_depth' : [10] }\n",
    "grid = GridSearchCV(estimator=forest, param_grid=param_grid, cv= 10) \n",
    "grid_result=grid.fit(X, y)\n",
    "#summarize results\n",
    "print(\"Best: %f using %s\" % (grid_result.best_score_, grid_result.best_params_)) \n",
    "for params, mean_score, scores in grid_result.grid_scores_: \n",
    "    print(\"%f (%f) with: %r\" % (scores.mean(), scores.std(), params))"
   ]
  },
  {
   "cell_type": "markdown",
   "metadata": {},
   "source": [
    "Running Suggested Models"
   ]
  },
  {
   "cell_type": "code",
   "execution_count": 23,
   "metadata": {
    "collapsed": false
   },
   "outputs": [
    {
     "name": "stdout",
     "output_type": "stream",
     "text": [
      "Train 0.957142857143\n",
      "Test 0.926666666667\n",
      "CORRECT_AUC_USING_PROB 0.859244973035\n"
     ]
    }
   ],
   "source": [
    "from sklearn import metrics\n",
    "from sklearn.ensemble import RandomForestClassifier\n",
    "forest = RandomForestClassifier(n_estimators =50 ,max_depth=10, random_state=3)   # n_estimators are the number of trees\n",
    "forestfit_train = forest.fit(X_train,y_train)\n",
    "y_train_hat_RF = forest.predict(X_train)\n",
    "print \"Train\", (metrics.accuracy_score(y_train, y_train_hat_RF))\n",
    "y_test_hat_RF = forest.predict(X_test)\n",
    "print \"Test\",(metrics.accuracy_score(y_test, y_test_hat_RF))\n",
    "y_pred_prob_rf=forest.predict_proba(X_test)[:,1]\n",
    "\n",
    "# calculate AUC\n",
    "print \"CORRECT_AUC_USING_PROB\", metrics.roc_auc_score(y_test, y_pred_prob_rf)"
   ]
  },
  {
   "cell_type": "code",
   "execution_count": 24,
   "metadata": {
    "collapsed": false
   },
   "outputs": [
    {
     "data": {
      "text/html": [
       "<div>\n",
       "<table border=\"1\" class=\"dataframe\">\n",
       "  <thead>\n",
       "    <tr style=\"text-align: right;\">\n",
       "      <th>Predicted</th>\n",
       "      <th>0</th>\n",
       "      <th>1</th>\n",
       "      <th>All</th>\n",
       "    </tr>\n",
       "    <tr>\n",
       "      <th>True</th>\n",
       "      <th></th>\n",
       "      <th></th>\n",
       "      <th></th>\n",
       "    </tr>\n",
       "  </thead>\n",
       "  <tbody>\n",
       "    <tr>\n",
       "      <th>0</th>\n",
       "      <td>549</td>\n",
       "      <td>0</td>\n",
       "      <td>549</td>\n",
       "    </tr>\n",
       "    <tr>\n",
       "      <th>1</th>\n",
       "      <td>44</td>\n",
       "      <td>7</td>\n",
       "      <td>51</td>\n",
       "    </tr>\n",
       "    <tr>\n",
       "      <th>All</th>\n",
       "      <td>593</td>\n",
       "      <td>7</td>\n",
       "      <td>600</td>\n",
       "    </tr>\n",
       "  </tbody>\n",
       "</table>\n",
       "</div>"
      ],
      "text/plain": [
       "Predicted    0  1  All\n",
       "True                  \n",
       "0          549  0  549\n",
       "1           44  7   51\n",
       "All        593  7  600"
      ]
     },
     "execution_count": 24,
     "metadata": {},
     "output_type": "execute_result"
    }
   ],
   "source": [
    "rf=pd.crosstab(y_test, y_test_hat_RF, rownames=['True'], colnames=['Predicted'], margins=True)\n",
    "rf"
   ]
  },
  {
   "cell_type": "code",
   "execution_count": 25,
   "metadata": {
    "collapsed": false
   },
   "outputs": [
    {
     "name": "stdout",
     "output_type": "stream",
     "text": [
      "True Negative: (TN) 549\n",
      "True Positive (TP): 7\n",
      "False Negative (FN): 44\n",
      "False Positive (FP): 0\n",
      "('Sensitivity-True positive rate (TPR) (Hit Rate or Recall)', 0.137)\n",
      "Precision or positive predictive value (PPV) 1.0\n",
      "Specificity-True Negative Rate (TNR) 1.0\n",
      "False Negative Rate (FNR) (Miss Rate) 0.863\n",
      "False Positive Rate (FPR) (Fall-out Rate) 0.0\n"
     ]
    }
   ],
   "source": [
    "TN = rf[0][0]\n",
    "FN = rf[0][1]\n",
    "FP = rf[1][0]\n",
    "TP = rf[1][1]\n",
    "print \"True Negative: (TN)\", TN \n",
    "print \"True Positive (TP):\", TP \n",
    "print \"False Negative (FN):\", FN \n",
    "print \"False Positive (FP):\", FP \n",
    "from __future__ import division\n",
    "print( \"Sensitivity-True positive rate (TPR) (Hit Rate or Recall)\", round(TP/(TP+FN),3) )\n",
    "print \"Precision or positive predictive value (PPV)\", round(TP/(TP+FP),3)\n",
    "print \"Specificity-True Negative Rate (TNR)\", round(TN/(TN+FP),3) \n",
    "print \"False Negative Rate (FNR) (Miss Rate)\", round(FN/(FN+TP),3) \n",
    "print \"False Positive Rate (FPR) (Fall-out Rate)\", round(FP/(FP+TN),3) \n",
    "FPR=round(FP/(FP+TN),3)"
   ]
  },
  {
   "cell_type": "markdown",
   "metadata": {},
   "source": [
    "# If we set the probability > ??"
   ]
  },
  {
   "cell_type": "code",
   "execution_count": 116,
   "metadata": {
    "collapsed": false
   },
   "outputs": [],
   "source": [
    "import numpy as np\n",
    "from sklearn.metrics import precision_recall_curve\n",
    "y_true = np.array([0, 0, 1, 1, 0,0])\n",
    "y_scores = np.array([0.1, 0.4, 0.35, 0.8,2,8])\n",
    "precision, recall, thresholds = precision_recall_curve(y_test, y_pred_prob_gb)"
   ]
  },
  {
   "cell_type": "code",
   "execution_count": null,
   "metadata": {
    "collapsed": false
   },
   "outputs": [],
   "source": [
    "# plot ROC curve\n",
    "fpr, tpr, thresholds = metrics.roc_curve(y_test, y_pred_prob_gb)\n",
    "plt.plot(fpr, tpr)\n",
    "plt.xlim([0.0, 1.0])\n",
    "plt.ylim([0.0, 1.0])\n",
    "plt.xlabel('False Positive Rate (1 - Specificity)')\n",
    "plt.ylabel('True Positive Rate (Sensitivity)')"
   ]
  },
  {
   "cell_type": "markdown",
   "metadata": {},
   "source": [
    "# Gradient Boosting -Normal Sample - P> 0.15"
   ]
  },
  {
   "cell_type": "code",
   "execution_count": null,
   "metadata": {
    "collapsed": false
   },
   "outputs": [],
   "source": [
    "from sklearn.grid_search import GridSearchCV\n",
    "from sklearn.ensemble import GradientBoostingClassifier\n",
    "GB = GradientBoostingClassifier(random_state=3) \n",
    "param_grid = { \"n_estimators\" : [50, 70, 100, 125], \n",
    "              \"learning_rate\" : [0.01, 0.05, 0.1, 0.15], \n",
    "              \"max_depth\" : [10, 15, 20], \n",
    "              \"min_samples_split\" : [8, 9, 10] } \n",
    "grid_search = GridSearchCV(estimator=GB, param_grid=param_grid, cv=10, scoring = 'recall') \n",
    "grid_search.fit(X, y)\n",
    "# predict probability of rearrest\n",
    "y_pred_prob_gb = grid_search.predict_proba(X)[:,1]\n",
    "#summarize results\n",
    "print(\"Best: %f using %s\" % (grid_search.best_score_, grid_search.best_params_)) \n",
    "for params, mean_score, scores in grid_search.grid_scores_: \n",
    "    print(\"%f (%f) with: %r\" % (scores.mean(), scores.std(), params))\n",
    "#Result Best: 0.441176 using {'min_samples_split': 10, 'n_estimators': 70, 'learning_rate': 0.1, 'max_depth': 10}"
   ]
  },
  {
   "cell_type": "code",
   "execution_count": 173,
   "metadata": {
    "collapsed": false
   },
   "outputs": [
    {
     "name": "stdout",
     "output_type": "stream",
     "text": [
      "1.0\n",
      "AUC: 0.871513268331\n"
     ]
    }
   ],
   "source": [
    "from sklearn.ensemble import GradientBoostingClassifier\n",
    "from sklearn import metrics\n",
    "from sklearn.metrics import recall_score\n",
    "from sklearn.metrics import precision_score\n",
    "GB = GradientBoostingClassifier(n_estimators=70, max_depth=15, min_samples_split=8, random_state=3, learning_rate= 0.1)\n",
    "GB.fit(X_train, y_train)\n",
    "y_train_hat_GB = GB.predict(X_train)\n",
    "print(metrics.accuracy_score(y_train, y_train_hat_GB))\n",
    "risk = [0.05, 0.08, 0.10, 0.15, 0.20, 0.25, 0.30, 0.40, 0.5,0.6, 0.60, 0.70, 0.90]\n",
    "precision_gb = []\n",
    "recall_gb = []\n",
    "for i in risk:\n",
    "    y_test_hat_gb = (GB.predict_proba(X_test)[:,1] > i).astype(int)\n",
    "    precision_gb.append(metrics.precision_score(y_test, y_test_hat_gb))\n",
    "    recall_gb.append(metrics.recall_score(y_test, y_test_hat_gb))\n",
    "# predict probability of rearrest\n",
    "y_pred_prob_gb = GB.predict_proba(X_test )[:,1] \n",
    "# calculate AUC\n",
    "print \"AUC:\",metrics.roc_auc_score(y_test, y_pred_prob_gb)"
   ]
  },
  {
   "cell_type": "code",
   "execution_count": 174,
   "metadata": {
    "collapsed": false
   },
   "outputs": [
    {
     "data": {
      "image/png": "[encoded data removed]",
      "text/plain": [
       "<matplotlib.figure.Figure at 0x122b55c0>"
      ]
     },
     "metadata": {},
     "output_type": "display_data"
    }
   ],
   "source": [
    "from matplotlib import pyplot as plt\n",
    "import seaborn as sns \n",
    "plt.figure(figsize=(10,5)) \n",
    "plt.plot(risk, recall_gb, label=\"Recall Scores\")\n",
    "plt.plot(risk, precision_gb, label=\"Precision Scores\")\n",
    "plt.legend()\n",
    "plt.xlabel('Risk Levels') \n",
    "plt.ylabel('Recall Scores') \n",
    "plt.title('Recall and Precision Scores At Varying Levels of Risk') \n",
    "plt.show()"
   ]
  },
  {
   "cell_type": "code",
   "execution_count": 175,
   "metadata": {
    "collapsed": true
   },
   "outputs": [],
   "source": [
    "y_test_hat_gb = (GB.predict_proba(X_test)[:,1] > 0.07).astype(int)\n",
    "precision_gb.append(metrics.precision_score(y_test, y_test_hat_gb))\n",
    "recall_gb.append(metrics.recall_score(y_test, y_test_hat_gb))"
   ]
  },
  {
   "cell_type": "code",
   "execution_count": 176,
   "metadata": {
    "collapsed": false
   },
   "outputs": [
    {
     "data": {
      "text/html": [
       "<div>\n",
       "<table border=\"1\" class=\"dataframe\">\n",
       "  <thead>\n",
       "    <tr style=\"text-align: right;\">\n",
       "      <th>Predicted</th>\n",
       "      <th>0</th>\n",
       "      <th>1</th>\n",
       "      <th>All</th>\n",
       "    </tr>\n",
       "    <tr>\n",
       "      <th>True</th>\n",
       "      <th></th>\n",
       "      <th></th>\n",
       "      <th></th>\n",
       "    </tr>\n",
       "  </thead>\n",
       "  <tbody>\n",
       "    <tr>\n",
       "      <th>0</th>\n",
       "      <td>518</td>\n",
       "      <td>31</td>\n",
       "      <td>549</td>\n",
       "    </tr>\n",
       "    <tr>\n",
       "      <th>1</th>\n",
       "      <td>24</td>\n",
       "      <td>27</td>\n",
       "      <td>51</td>\n",
       "    </tr>\n",
       "    <tr>\n",
       "      <th>All</th>\n",
       "      <td>542</td>\n",
       "      <td>58</td>\n",
       "      <td>600</td>\n",
       "    </tr>\n",
       "  </tbody>\n",
       "</table>\n",
       "</div>"
      ],
      "text/plain": [
       "Predicted    0   1  All\n",
       "True                   \n",
       "0          518  31  549\n",
       "1           24  27   51\n",
       "All        542  58  600"
      ]
     },
     "execution_count": 176,
     "metadata": {},
     "output_type": "execute_result"
    }
   ],
   "source": [
    "gb=pd.crosstab(y_test, y_test_hat_gb, rownames=['True'], colnames=['Predicted'], margins=True)\n",
    "gb"
   ]
  },
  {
   "cell_type": "code",
   "execution_count": 113,
   "metadata": {
    "collapsed": false
   },
   "outputs": [
    {
     "name": "stdout",
     "output_type": "stream",
     "text": [
      "True Negative: (TN) 526\n",
      "True Positive (TP): 26\n",
      "False Negative (FN): 25\n",
      "False Positive (FP): 23\n",
      "Sensitivity-True positive rate (TPR) (Hit Rate or Recall 0.51\n",
      "Precision or positive predictive value (PPV) 0.531\n",
      "Specificity-True Negative Rate (TNR) 0.958\n",
      "False Negative Rate (FNR) (Miss Rate) 0.49\n",
      "False Positive Rate (FPR) (Fall-out Rate) 0.042\n"
     ]
    }
   ],
   "source": [
    "TN = gb[0][0]\n",
    "FN = gb[0][1]\n",
    "FP = gb[1][0]\n",
    "TP = gb[1][1]\n",
    "print \"True Negative: (TN)\", TN \n",
    "print \"True Positive (TP):\", TP \n",
    "print \"False Negative (FN):\", FN \n",
    "print \"False Positive (FP):\", FP \n",
    "from __future__ import division\n",
    "print \"Sensitivity-True positive rate (TPR) (Hit Rate or Recall\", round(TP/(TP+FN),3)\n",
    "print \"Precision or positive predictive value (PPV)\", round(TP/(TP+FP),3)\n",
    "print \"Specificity-True Negative Rate (TNR)\", round(TN/(TN+FP),3) \n",
    "print \"False Negative Rate (FNR) (Miss Rate)\", round(FN/(FN+TP),3) \n",
    "print \"False Positive Rate (FPR) (Fall-out Rate)\", round(FP/(FP+TN),3) \n",
    "FPR=round(FP/(FP+TN),3) "
   ]
  },
  {
   "cell_type": "code",
   "execution_count": 116,
   "metadata": {
    "collapsed": false
   },
   "outputs": [
    {
     "data": {
      "text/plain": [
       "<matplotlib.text.Text at 0xec317b8>"
      ]
     },
     "execution_count": 116,
     "metadata": {},
     "output_type": "execute_result"
    },
    {
     "data": {
      "image/png": "[encoded data removed]",
      "text/plain": [
       "<matplotlib.figure.Figure at 0xe3f8c18>"
      ]
     },
     "metadata": {},
     "output_type": "display_data"
    }
   ],
   "source": [
    "# plot ROC curve\n",
    "fpr, tpr, thresholds = metrics.roc_curve(y_test, y_pred_prob_gb)\n",
    "plt.plot(fpr, tpr)\n",
    "plt.xlim([0.15, 0.19])\n",
    "plt.ylim([0.0, 1.0])\n",
    "plt.xlabel('False Positive Rate (1 - Specificity)')\n",
    "plt.ylabel('True Positive Rate (Sensitivity)')"
   ]
  },
  {
   "cell_type": "markdown",
   "metadata": {
    "collapsed": false
   },
   "source": [
    "# Logistic Regression--Normal Sample--P>0.125"
   ]
  },
  {
   "cell_type": "code",
   "execution_count": 82,
   "metadata": {
    "collapsed": false
   },
   "outputs": [
    {
     "name": "stdout",
     "output_type": "stream",
     "text": [
      "Train_Accuracy 0.940714285714\n",
      "AUC: 0.812886174506\n"
     ]
    }
   ],
   "source": [
    "from sklearn.linear_model import LogisticRegression\n",
    "from sklearn import metrics\n",
    "logreg = LogisticRegression(random_state=3 )\n",
    "logreg.fit(X_train, y_train)\n",
    "y_hat_train_log = logreg.predict(X_train)\n",
    "print \"Train_Accuracy\", metrics.accuracy_score(y_train, y_hat_train_log)\n",
    "\n",
    "risk = [0.05, 0.08, 0.10, 0.15, 0.20, 0.25, 0.30, 0.40, 0.5,0.6, 0.60, 0.70, 0.90]\n",
    "precision_log = []\n",
    "recall_log = []\n",
    "\n",
    "for i in risk:\n",
    "    y_test_hat_log = (logreg.predict_proba(X_test)[:,1] > i).astype(int)\n",
    "    precision_log.append(metrics.precision_score(y_test, y_test_hat_log))\n",
    "    recall_log.append(metrics.recall_score(y_test, y_test_hat_log))\n",
    "# predict probability of rearrest\n",
    "y_pred_prob_log = logreg.predict_proba(X_test )[:,1] \n",
    "# calculate AUC\n",
    "print \"AUC:\",metrics.roc_auc_score(y_test, y_pred_prob_log)"
   ]
  },
  {
   "cell_type": "code",
   "execution_count": 83,
   "metadata": {
    "collapsed": false
   },
   "outputs": [
    {
     "data": {
      "image/png": "[encoded data removed]",
      "text/plain": [
       "<matplotlib.figure.Figure at 0x10613cc0>"
      ]
     },
     "metadata": {},
     "output_type": "display_data"
    }
   ],
   "source": [
    "from matplotlib import pyplot as plt\n",
    "plt.figure(figsize=(10,5)) \n",
    "plt.plot(risk, recall_log, label=\"Recall Scores\")\n",
    "plt.plot(risk, precision_log, label=\"Precision Scores\")\n",
    "plt.legend()\n",
    "plt.xlabel('Risk Levels') \n",
    "plt.ylabel('Recall Scores') \n",
    "plt.title('Recall and Precision Scores At Varying Levels of Risk') \n",
    "plt.show()"
   ]
  },
  {
   "cell_type": "code",
   "execution_count": 107,
   "metadata": {
    "collapsed": true
   },
   "outputs": [],
   "source": [
    "y_test_hat_log = (logreg.predict_proba(X_test)[:,1] > 0.13).astype(int)\n",
    "precision_log.append(metrics.precision_score(y_test, y_test_hat_log))\n",
    "recall_log.append(metrics.recall_score(y_test, y_test_hat_log))"
   ]
  },
  {
   "cell_type": "code",
   "execution_count": 108,
   "metadata": {
    "collapsed": false
   },
   "outputs": [
    {
     "data": {
      "text/html": [
       "<div>\n",
       "<table border=\"1\" class=\"dataframe\">\n",
       "  <thead>\n",
       "    <tr style=\"text-align: right;\">\n",
       "      <th>Predicted</th>\n",
       "      <th>0</th>\n",
       "      <th>1</th>\n",
       "      <th>All</th>\n",
       "    </tr>\n",
       "    <tr>\n",
       "      <th>True</th>\n",
       "      <th></th>\n",
       "      <th></th>\n",
       "      <th></th>\n",
       "    </tr>\n",
       "  </thead>\n",
       "  <tbody>\n",
       "    <tr>\n",
       "      <th>0</th>\n",
       "      <td>470</td>\n",
       "      <td>79</td>\n",
       "      <td>549</td>\n",
       "    </tr>\n",
       "    <tr>\n",
       "      <th>1</th>\n",
       "      <td>21</td>\n",
       "      <td>30</td>\n",
       "      <td>51</td>\n",
       "    </tr>\n",
       "    <tr>\n",
       "      <th>All</th>\n",
       "      <td>491</td>\n",
       "      <td>109</td>\n",
       "      <td>600</td>\n",
       "    </tr>\n",
       "  </tbody>\n",
       "</table>\n",
       "</div>"
      ],
      "text/plain": [
       "Predicted    0    1  All\n",
       "True                    \n",
       "0          470   79  549\n",
       "1           21   30   51\n",
       "All        491  109  600"
      ]
     },
     "execution_count": 108,
     "metadata": {},
     "output_type": "execute_result"
    }
   ],
   "source": [
    "log=pd.crosstab(y_test, y_test_hat_log, rownames=['True'], colnames=['Predicted'], margins=True)\n",
    "log"
   ]
  },
  {
   "cell_type": "code",
   "execution_count": 100,
   "metadata": {
    "collapsed": false
   },
   "outputs": [
    {
     "name": "stdout",
     "output_type": "stream",
     "text": [
      "True Negative: (TN) 485\n",
      "True Positive (TP): 28\n",
      "False Negative (FN): 23\n",
      "False Positive (FP): 64\n",
      "Sensitivity-True positive rate (TPR) (Hit Rate or Recall 0.549\n",
      "Precision or positive predictive value (PPV) 0.304\n",
      "Specificity-True Negative Rate (TNR) 0.883\n",
      "False Negative Rate (FNR) (Miss Rate) 0.451\n",
      "False Positive Rate (FPR) (Fall-out Rate) 0.117\n"
     ]
    }
   ],
   "source": [
    "TN = log[0][0]\n",
    "FN = log[0][1]\n",
    "FP = log[1][0]\n",
    "TP = log[1][1]\n",
    "print \"True Negative: (TN)\", TN \n",
    "print \"True Positive (TP):\", TP \n",
    "print \"False Negative (FN):\", FN \n",
    "print \"False Positive (FP):\", FP \n",
    "from __future__ import division\n",
    "print \"Sensitivity-True positive rate (TPR) (Hit Rate or Recall\", round(TP/(TP+FN),3) \n",
    "print \"Precision or positive predictive value (PPV)\", round(TP/(TP+FP),3)\n",
    "print \"Specificity-True Negative Rate (TNR)\", round(TN/(TN+FP),3) \n",
    "print \"False Negative Rate (FNR) (Miss Rate)\", round(FN/(FN+TP),3) \n",
    "print \"False Positive Rate (FPR) (Fall-out Rate)\", round(FP/(FP+TN),3) \n",
    "FPR=round(FP/(FP+TN),3) "
   ]
  },
  {
   "cell_type": "code",
   "execution_count": 104,
   "metadata": {
    "collapsed": false
   },
   "outputs": [
    {
     "data": {
      "text/plain": [
       "<matplotlib.text.Text at 0x10a2c780>"
      ]
     },
     "execution_count": 104,
     "metadata": {},
     "output_type": "execute_result"
    },
    {
     "data": {
      "image/png": "[encoded data removed]",
      "text/plain": [
       "<matplotlib.figure.Figure at 0x10c13da0>"
      ]
     },
     "metadata": {},
     "output_type": "display_data"
    }
   ],
   "source": [
    "# plot ROC curve\n",
    "fpr, tpr, thresholds = metrics.roc_curve(y_test, y_test_prob_log)\n",
    "plt.plot(fpr, tpr)\n",
    "plt.xlim([0.125, 0.13])\n",
    "plt.ylim([0.0, 1.0])\n",
    "plt.xlabel('False Positive Rate (1 - Specificity)')\n",
    "plt.ylabel('True Positive Rate (Sensitivity)')"
   ]
  },
  {
   "cell_type": "markdown",
   "metadata": {
    "collapsed": false
   },
   "source": [
    "# Random Forest--Normal Sample-- p>0.128"
   ]
  },
  {
   "cell_type": "code",
   "execution_count": 123,
   "metadata": {
    "collapsed": false
   },
   "outputs": [
    {
     "name": "stdout",
     "output_type": "stream",
     "text": [
      "Train 0.957142857143\n",
      "Test 0.675\n",
      "AUC: 0.859244973035\n"
     ]
    },
    {
     "name": "stderr",
     "output_type": "stream",
     "text": [
      "C:\\Anaconda3\\envs\\py27\\lib\\site-packages\\sklearn\\metrics\\classification.py:1113: UndefinedMetricWarning: Precision is ill-defined and being set to 0.0 due to no predicted samples.\n",
      "  'precision', 'predicted', average, warn_for)\n"
     ]
    }
   ],
   "source": [
    "from sklearn import metrics\n",
    "from sklearn.ensemble import RandomForestClassifier\n",
    "forest = RandomForestClassifier(n_estimators =50 ,max_depth=10, random_state=3)   # n_estimators are the number of trees\n",
    "forestfit_train = forest.fit(X_train,y_train)\n",
    "y_train_hat_RF = forest.predict(X_train)\n",
    "print \"Train\", (metrics.accuracy_score(y_train, y_train_hat_RF))\n",
    "y_test_hat_RF = (forest.predict_proba(X_test )[:,1] > 0.08).astype(int)\n",
    "print \"Test\",(metrics.accuracy_score(y_test, y_test_hat_RF))\n",
    "y_pred_prob_rf=forest.predict_proba(X_test)[:,1]\n",
    "\n",
    "risk = [0.05, 0.08, 0.10, 0.15, 0.20, 0.25, 0.30, 0.40, 0.5,0.6, 0.60, 0.70, 0.90]\n",
    "precision_rf = []\n",
    "recall_rf = []\n",
    "\n",
    "for i in risk:\n",
    "    y_test_hat_rf = (forest.predict_proba(X_test)[:,1] > i).astype(int)\n",
    "    precision_rf.append(metrics.precision_score(y_test, y_test_hat_rf))\n",
    "    recall_rf.append(metrics.recall_score(y_test, y_test_hat_rf))\n",
    "# predict probability of rearrest\n",
    "y_pred_prob_rf = forest.predict_proba(X_test )[:,1] \n",
    "# calculate AUC\n",
    "print \"AUC:\",metrics.roc_auc_score(y_test, y_pred_prob_rf)"
   ]
  },
  {
   "cell_type": "code",
   "execution_count": 124,
   "metadata": {
    "collapsed": false
   },
   "outputs": [
    {
     "data": {
      "image/png": "[encoded data removed]",
      "text/plain": [
       "<matplotlib.figure.Figure at 0xeae92b0>"
      ]
     },
     "metadata": {},
     "output_type": "display_data"
    }
   ],
   "source": [
    "from matplotlib import pyplot as plt\n",
    "plt.figure(figsize=(10,5)) \n",
    "plt.plot(risk, recall_rf, label=\"Recall Scores\")\n",
    "plt.plot(risk, precision_rf, label=\"Precision Scores\")\n",
    "plt.legend()\n",
    "plt.xlabel('Risk Levels') \n",
    "plt.ylabel('Recall Scores') \n",
    "plt.title('Recall and Precision Scores At Varying Levels of Risk') \n",
    "plt.show()"
   ]
  },
  {
   "cell_type": "code",
   "execution_count": 140,
   "metadata": {
    "collapsed": true
   },
   "outputs": [],
   "source": [
    "y_test_hat_rf = (forest.predict_proba(X_test)[:,1] > 0.16).astype(int)\n",
    "precision_rf.append(metrics.precision_score(y_test, y_test_hat_rf))\n",
    "recall_rf.append(metrics.recall_score(y_test, y_test_hat_rf))"
   ]
  },
  {
   "cell_type": "code",
   "execution_count": 141,
   "metadata": {
    "collapsed": false
   },
   "outputs": [
    {
     "data": {
      "text/html": [
       "<div>\n",
       "<table border=\"1\" class=\"dataframe\">\n",
       "  <thead>\n",
       "    <tr style=\"text-align: right;\">\n",
       "      <th>Predicted</th>\n",
       "      <th>0</th>\n",
       "      <th>1</th>\n",
       "      <th>All</th>\n",
       "    </tr>\n",
       "    <tr>\n",
       "      <th>True</th>\n",
       "      <th></th>\n",
       "      <th></th>\n",
       "      <th></th>\n",
       "    </tr>\n",
       "  </thead>\n",
       "  <tbody>\n",
       "    <tr>\n",
       "      <th>0</th>\n",
       "      <td>489</td>\n",
       "      <td>60</td>\n",
       "      <td>549</td>\n",
       "    </tr>\n",
       "    <tr>\n",
       "      <th>1</th>\n",
       "      <td>21</td>\n",
       "      <td>30</td>\n",
       "      <td>51</td>\n",
       "    </tr>\n",
       "    <tr>\n",
       "      <th>All</th>\n",
       "      <td>510</td>\n",
       "      <td>90</td>\n",
       "      <td>600</td>\n",
       "    </tr>\n",
       "  </tbody>\n",
       "</table>\n",
       "</div>"
      ],
      "text/plain": [
       "Predicted    0   1  All\n",
       "True                   \n",
       "0          489  60  549\n",
       "1           21  30   51\n",
       "All        510  90  600"
      ]
     },
     "execution_count": 141,
     "metadata": {},
     "output_type": "execute_result"
    }
   ],
   "source": [
    "rf=pd.crosstab(y_test, y_test_hat_rf, rownames=['True'], colnames=['Predicted'], margins=True)\n",
    "rf"
   ]
  },
  {
   "cell_type": "code",
   "execution_count": 142,
   "metadata": {
    "collapsed": false
   },
   "outputs": [
    {
     "name": "stdout",
     "output_type": "stream",
     "text": [
      "True Negative: (TN) 489\n",
      "True Positive (TP): 30\n",
      "False Negative (FN): 21\n",
      "False Positive (FP): 60\n",
      "('Sensitivity-True positive rate (TPR) (Hit Rate or Recall)', 0.588)\n",
      "Precision or positive predictive value (PPV) 0.333\n",
      "Specificity-True Negative Rate (TNR) 0.891\n",
      "False Negative Rate (FNR) (Miss Rate) 0.412\n",
      "False Positive Rate (FPR) (Fall-out Rate) 0.109\n"
     ]
    }
   ],
   "source": [
    "TN = rf[0][0]\n",
    "FN = rf[0][1]\n",
    "FP = rf[1][0]\n",
    "TP = rf[1][1]\n",
    "print \"True Negative: (TN)\", TN \n",
    "print \"True Positive (TP):\", TP \n",
    "print \"False Negative (FN):\", FN \n",
    "print \"False Positive (FP):\", FP \n",
    "from __future__ import division\n",
    "print( \"Sensitivity-True positive rate (TPR) (Hit Rate or Recall)\", round(TP/(TP+FN),3) )\n",
    "print \"Precision or positive predictive value (PPV)\", round(TP/(TP+FP),3)\n",
    "print \"Specificity-True Negative Rate (TNR)\", round(TN/(TN+FP),3) \n",
    "print \"False Negative Rate (FNR) (Miss Rate)\", round(FN/(FN+TP),3) \n",
    "print \"False Positive Rate (FPR) (Fall-out Rate)\", round(FP/(FP+TN),3) \n",
    "FPR=round(FP/(FP+TN),3) "
   ]
  },
  {
   "cell_type": "code",
   "execution_count": 143,
   "metadata": {
    "collapsed": false
   },
   "outputs": [
    {
     "data": {
      "text/plain": [
       "[<matplotlib.lines.Line2D at 0x10415208>]"
      ]
     },
     "execution_count": 143,
     "metadata": {},
     "output_type": "execute_result"
    },
    {
     "data": {
      "image/png": "[encoded data removed]",
      "text/plain": [
       "<matplotlib.figure.Figure at 0x10856550>"
      ]
     },
     "metadata": {},
     "output_type": "display_data"
    }
   ],
   "source": [
    "# Plot hits on a probability window\n",
    "window=[0.08, 0.09, 0.1, 0.11, 0.12, 0.13, 0.14, 0.15,0.16,0.17,0.18,0.19,0.2]\n",
    "precision_rf2 = []\n",
    "recall_rf2 = []\n",
    "\n",
    "for i in window:\n",
    "    y_test_hat_rf2 = (forest.predict_proba(X_test)[:,1] > i).astype(int)\n",
    "    precision_rf2.append(metrics.precision_score(y_test, y_test_hat_rf2))\n",
    "    recall_rf2.append(metrics.recall_score(y_test, y_test_hat_rf2))\n",
    "plt.plot(window, recall_rf2)\n",
    "plt.plot(window, precision_rf2)"
   ]
  },
  {
   "cell_type": "code",
   "execution_count": 46,
   "metadata": {
    "collapsed": false
   },
   "outputs": [
    {
     "data": {
      "text/plain": [
       "'We selected features that play major roles. Now we have to deal with the problem of imbalance. \\nWe will systematically overpopulate the minority class.'"
      ]
     },
     "execution_count": 46,
     "metadata": {},
     "output_type": "execute_result"
    }
   ],
   "source": [
    "'''We selected features that play major roles. Now we have to deal with the problem of imbalance. \n",
    "We will systematically overpopulate the minority class.'''"
   ]
  },
  {
   "cell_type": "code",
   "execution_count": 144,
   "metadata": {
    "collapsed": false
   },
   "outputs": [
    {
     "data": {
      "text/html": [
       "<div>\n",
       "<table border=\"1\" class=\"dataframe\">\n",
       "  <thead>\n",
       "    <tr style=\"text-align: right;\">\n",
       "      <th>Predicted</th>\n",
       "      <th>0</th>\n",
       "      <th>1</th>\n",
       "      <th>All</th>\n",
       "    </tr>\n",
       "    <tr>\n",
       "      <th>True</th>\n",
       "      <th></th>\n",
       "      <th></th>\n",
       "      <th></th>\n",
       "    </tr>\n",
       "  </thead>\n",
       "  <tbody>\n",
       "    <tr>\n",
       "      <th>0</th>\n",
       "      <td>526</td>\n",
       "      <td>23</td>\n",
       "      <td>549</td>\n",
       "    </tr>\n",
       "    <tr>\n",
       "      <th>1</th>\n",
       "      <td>25</td>\n",
       "      <td>26</td>\n",
       "      <td>51</td>\n",
       "    </tr>\n",
       "    <tr>\n",
       "      <th>All</th>\n",
       "      <td>551</td>\n",
       "      <td>49</td>\n",
       "      <td>600</td>\n",
       "    </tr>\n",
       "  </tbody>\n",
       "</table>\n",
       "</div>"
      ],
      "text/plain": [
       "Predicted    0   1  All\n",
       "True                   \n",
       "0          526  23  549\n",
       "1           25  26   51\n",
       "All        551  49  600"
      ]
     },
     "execution_count": 144,
     "metadata": {},
     "output_type": "execute_result"
    }
   ],
   "source": [
    "gb"
   ]
  },
  {
   "cell_type": "code",
   "execution_count": 145,
   "metadata": {
    "collapsed": false
   },
   "outputs": [
    {
     "data": {
      "text/html": [
       "<div>\n",
       "<table border=\"1\" class=\"dataframe\">\n",
       "  <thead>\n",
       "    <tr style=\"text-align: right;\">\n",
       "      <th>Predicted</th>\n",
       "      <th>0</th>\n",
       "      <th>1</th>\n",
       "      <th>All</th>\n",
       "    </tr>\n",
       "    <tr>\n",
       "      <th>True</th>\n",
       "      <th></th>\n",
       "      <th></th>\n",
       "      <th></th>\n",
       "    </tr>\n",
       "  </thead>\n",
       "  <tbody>\n",
       "    <tr>\n",
       "      <th>0</th>\n",
       "      <td>470</td>\n",
       "      <td>79</td>\n",
       "      <td>549</td>\n",
       "    </tr>\n",
       "    <tr>\n",
       "      <th>1</th>\n",
       "      <td>21</td>\n",
       "      <td>30</td>\n",
       "      <td>51</td>\n",
       "    </tr>\n",
       "    <tr>\n",
       "      <th>All</th>\n",
       "      <td>491</td>\n",
       "      <td>109</td>\n",
       "      <td>600</td>\n",
       "    </tr>\n",
       "  </tbody>\n",
       "</table>\n",
       "</div>"
      ],
      "text/plain": [
       "Predicted    0    1  All\n",
       "True                    \n",
       "0          470   79  549\n",
       "1           21   30   51\n",
       "All        491  109  600"
      ]
     },
     "execution_count": 145,
     "metadata": {},
     "output_type": "execute_result"
    }
   ],
   "source": [
    "log"
   ]
  },
  {
   "cell_type": "code",
   "execution_count": 146,
   "metadata": {
    "collapsed": false
   },
   "outputs": [
    {
     "data": {
      "text/html": [
       "<div>\n",
       "<table border=\"1\" class=\"dataframe\">\n",
       "  <thead>\n",
       "    <tr style=\"text-align: right;\">\n",
       "      <th>Predicted</th>\n",
       "      <th>0</th>\n",
       "      <th>1</th>\n",
       "      <th>All</th>\n",
       "    </tr>\n",
       "    <tr>\n",
       "      <th>True</th>\n",
       "      <th></th>\n",
       "      <th></th>\n",
       "      <th></th>\n",
       "    </tr>\n",
       "  </thead>\n",
       "  <tbody>\n",
       "    <tr>\n",
       "      <th>0</th>\n",
       "      <td>489</td>\n",
       "      <td>60</td>\n",
       "      <td>549</td>\n",
       "    </tr>\n",
       "    <tr>\n",
       "      <th>1</th>\n",
       "      <td>21</td>\n",
       "      <td>30</td>\n",
       "      <td>51</td>\n",
       "    </tr>\n",
       "    <tr>\n",
       "      <th>All</th>\n",
       "      <td>510</td>\n",
       "      <td>90</td>\n",
       "      <td>600</td>\n",
       "    </tr>\n",
       "  </tbody>\n",
       "</table>\n",
       "</div>"
      ],
      "text/plain": [
       "Predicted    0   1  All\n",
       "True                   \n",
       "0          489  60  549\n",
       "1           21  30   51\n",
       "All        510  90  600"
      ]
     },
     "execution_count": 146,
     "metadata": {},
     "output_type": "execute_result"
    }
   ],
   "source": [
    "rf"
   ]
  },
  {
   "cell_type": "code",
   "execution_count": null,
   "metadata": {
    "collapsed": true
   },
   "outputs": [],
   "source": [
    "************************************************** IGNORE BELOW  *******************************************"
   ]
  },
  {
   "cell_type": "code",
   "execution_count": 6,
   "metadata": {
    "collapsed": false
   },
   "outputs": [
    {
     "ename": "SyntaxError",
     "evalue": "invalid syntax (<ipython-input-6-698084ea844a>, line 1)",
     "output_type": "error",
     "traceback": [
      "\u001b[0;36m  File \u001b[0;32m\"<ipython-input-6-698084ea844a>\"\u001b[0;36m, line \u001b[0;32m1\u001b[0m\n\u001b[0;31m    jupyter nbconvert Data_Preprocessing_1.ipynb --to pdf\u001b[0m\n\u001b[0m                    ^\u001b[0m\n\u001b[0;31mSyntaxError\u001b[0m\u001b[0;31m:\u001b[0m invalid syntax\n"
     ]
    }
   ],
   "source": [
    "jupyter nbconvert Data_Preprocessing_1.ipynb --to pdf"
   ]
  },
  {
   "cell_type": "markdown",
   "metadata": {},
   "source": [
    "# Over Sampling"
   ]
  },
  {
   "cell_type": "code",
   "execution_count": 25,
   "metadata": {
    "collapsed": false
   },
   "outputs": [
    {
     "name": "stdout",
     "output_type": "stream",
     "text": [
      "(700L, 60L)\n",
      "(300L, 60L)\n"
     ]
    }
   ],
   "source": [
    "from sklearn.cross_validation import train_test_split\n",
    "X_train, X_test, y_train, y_test = train_test_split(X, y, test_size=0.30, random_state=3)\n",
    "X_train=X_train.values\n",
    "X_test=X_test.values\n",
    "print(X_train.shape)\n",
    "print (X_test.shape)"
   ]
  },
  {
   "cell_type": "code",
   "execution_count": 186,
   "metadata": {
    "collapsed": true
   },
   "outputs": [],
   "source": [
    "# standardize predictors to have mean=0 and sd=1\n",
    "from sklearn import preprocessing\n",
    "from sklearn.preprocessing import StandardScaler\n",
    "sc = StandardScaler()\n",
    "sc.fit(X_train)\n",
    "X_train = sc.transform(X_train)\n",
    "X_test= sc.transform(X_test)"
   ]
  },
  {
   "cell_type": "code",
   "execution_count": 19,
   "metadata": {
    "collapsed": false
   },
   "outputs": [
    {
     "name": "stdout",
     "output_type": "stream",
     "text": [
      "(700, 60) (700L,)\n",
      "(150, 60) (150L,)\n",
      "(150, 60) (150L,)\n"
     ]
    }
   ],
   "source": [
    "from sklearn.cross_validation import train_test_split\n",
    "\n",
    "X_train, X_test, y_train, y_test = train_test_split(X, y, test_size=0.3)\n",
    "X_test, X_val, y_test, y_val = train_test_split(X_test, y_test, test_size=0.5)\n",
    "\n",
    "print X_train.shape, y_train.shape\n",
    "print X_test.shape,  y_test.shape\n",
    "print X_val.shape,   y_val.shape"
   ]
  },
  {
   "cell_type": "markdown",
   "metadata": {},
   "source": [
    "### Using ADASYN"
   ]
  },
  {
   "cell_type": "code",
   "execution_count": 36,
   "metadata": {
    "collapsed": false
   },
   "outputs": [
    {
     "name": "stdout",
     "output_type": "stream",
     "text": [
      "(1295L, 60L)\n",
      "(1295L,)\n"
     ]
    }
   ],
   "source": [
    "from imblearn.over_sampling import ADASYN\n",
    "ada = ADASYN(ratio=1.0, random_state=3)\n",
    "adax, aday = ada.fit_sample(X_train, y_train)\n",
    "aday.mean()\n",
    "print adax.shape\n",
    "print aday.shape"
   ]
  },
  {
   "cell_type": "code",
   "execution_count": 19,
   "metadata": {
    "collapsed": false
   },
   "outputs": [
    {
     "data": {
      "text/plain": [
       "array([[ 1.        ,  0.        ,  0.        , ...,  0.        ,\n",
       "         0.        ,  0.        ],\n",
       "       [ 1.        ,  0.        ,  0.        , ...,  0.        ,\n",
       "         0.        ,  0.        ],\n",
       "       [ 0.        ,  0.        ,  0.        , ...,  0.        ,\n",
       "         0.        ,  0.        ],\n",
       "       ..., \n",
       "       [-0.79411864,  0.        ,  0.        , ...,  0.        ,\n",
       "         0.        ,  0.        ],\n",
       "       [ 0.        ,  0.        ,  0.        , ...,  0.        ,\n",
       "         0.        ,  0.        ],\n",
       "       [-0.35054212,  0.        ,  0.        , ...,  0.        ,\n",
       "         0.        ,  0.        ]])"
      ]
     },
     "execution_count": 19,
     "metadata": {},
     "output_type": "execute_result"
    }
   ],
   "source": [
    "adax"
   ]
  },
  {
   "cell_type": "markdown",
   "metadata": {
    "collapsed": false
   },
   "source": [
    "### Using Smote"
   ]
  },
  {
   "cell_type": "code",
   "execution_count": 37,
   "metadata": {
    "collapsed": false
   },
   "outputs": [
    {
     "name": "stdout",
     "output_type": "stream",
     "text": [
      "(1292L, 60L)\n",
      "(1292L,)\n"
     ]
    }
   ],
   "source": [
    "from imblearn.over_sampling import SMOTE\n",
    "sm = SMOTE(random_state=3)\n",
    "smotx, smoty = sm.fit_sample(X_train, y_train)\n",
    "print smotx.shape\n",
    "print smoty.shape"
   ]
  },
  {
   "cell_type": "code",
   "execution_count": 21,
   "metadata": {
    "collapsed": false
   },
   "outputs": [
    {
     "data": {
      "text/plain": [
       "array([[ 1.       ,  0.       ,  0.       , ...,  0.       ,  0.       ,\n",
       "         0.       ],\n",
       "       [ 1.       ,  0.       ,  0.       , ...,  0.       ,  0.       ,\n",
       "         0.       ],\n",
       "       [ 0.       ,  0.       ,  0.       , ...,  0.       ,  0.       ,\n",
       "         0.       ],\n",
       "       ..., \n",
       "       [ 0.5350097,  0.       ,  0.       , ...,  0.5350097,  0.       ,\n",
       "         0.       ],\n",
       "       [ 0.       ,  0.       ,  0.       , ...,  0.       ,  0.       ,\n",
       "         0.       ],\n",
       "       [ 0.       ,  0.       ,  0.       , ...,  0.       ,  0.       ,\n",
       "         0.       ]])"
      ]
     },
     "execution_count": 21,
     "metadata": {},
     "output_type": "execute_result"
    }
   ],
   "source": [
    "smotx"
   ]
  },
  {
   "cell_type": "markdown",
   "metadata": {
    "collapsed": false
   },
   "source": [
    "### Using Over_Sampling"
   ]
  },
  {
   "cell_type": "code",
   "execution_count": 38,
   "metadata": {
    "collapsed": false
   },
   "outputs": [
    {
     "name": "stdout",
     "output_type": "stream",
     "text": [
      "(1292L, 60L)\n",
      "(1292L,)\n"
     ]
    }
   ],
   "source": [
    "from imblearn.over_sampling import RandomOverSampler\n",
    "ros = RandomOverSampler(random_state=3)\n",
    "rosx, rosy = ros.fit_sample(X_train, y_train)\n",
    "print rosx.shape\n",
    "print rosy.shape"
   ]
  },
  {
   "cell_type": "code",
   "execution_count": null,
   "metadata": {
    "collapsed": false
   },
   "outputs": [],
   "source": [
    "rosx"
   ]
  },
  {
   "cell_type": "code",
   "execution_count": 37,
   "metadata": {
    "collapsed": false
   },
   "outputs": [
    {
     "ename": "IndexError",
     "evalue": "too many indices for array",
     "output_type": "error",
     "traceback": [
      "\u001b[0;31m---------------------------------------------------------------------------\u001b[0m",
      "\u001b[0;31mIndexError\u001b[0m                                Traceback (most recent call last)",
      "\u001b[0;32m<ipython-input-37-23dd482175c5>\u001b[0m in \u001b[0;36m<module>\u001b[0;34m()\u001b[0m\n\u001b[0;32m----> 1\u001b[0;31m \u001b[0maday\u001b[0m\u001b[1;33m[\u001b[0m\u001b[1;36m5\u001b[0m\u001b[1;33m:\u001b[0m\u001b[1;36m15\u001b[0m\u001b[1;33m,\u001b[0m\u001b[1;36m1\u001b[0m\u001b[1;33m:\u001b[0m\u001b[1;36m60\u001b[0m\u001b[1;33m]\u001b[0m\u001b[1;33m\u001b[0m\u001b[0m\n\u001b[0m",
      "\u001b[0;31mIndexError\u001b[0m: too many indices for array"
     ]
    }
   ],
   "source": [
    "adax[5:15,1:60]"
   ]
  },
  {
   "cell_type": "code",
   "execution_count": null,
   "metadata": {
    "collapsed": false
   },
   "outputs": [],
   "source": [
    "rosx[5:15,1:60]"
   ]
  },
  {
   "cell_type": "markdown",
   "metadata": {
    "collapsed": false
   },
   "source": [
    "# Training with Overpopulated Sample and Testing Pure Test and Pure Validation Samples---ADASYN"
   ]
  },
  {
   "cell_type": "code",
   "execution_count": 49,
   "metadata": {
    "collapsed": false
   },
   "outputs": [
    {
     "name": "stdout",
     "output_type": "stream",
     "text": [
      "('ADASYN Sampling Train Accuracy', 0.95865834633385338)\n",
      "('ADASYN Sampling Test Accuracy', 0.91000000000000003)\n",
      "ADASYN Sampling Test AUC         0.831230497897\n"
     ]
    }
   ],
   "source": [
    "#using train-test in adax and aday\n",
    "from sklearn import metrics\n",
    "from sklearn.ensemble import RandomForestClassifier\n",
    "forest = RandomForestClassifier(n_estimators =100 ,max_depth=15, random_state=3)   # n_estimators are the number of trees\n",
    "forestfit_train = forest.fit(adax, aday)\n",
    "y_train_hat_RF = forest.predict(adax)\n",
    "print(\"ADASYN Sampling Train Accuracy\", metrics.accuracy_score(aday, y_train_hat_RF))\n",
    "\n",
    "#Test\n",
    "y_test_hat_RF = forest.predict(X_test)\n",
    "print(\"ADASYN Sampling Test Accuracy\", metrics.accuracy_score(y_test, y_test_hat_RF))\n",
    "# calculate AUC\n",
    "y_test_prob_RF = forest.predict_proba(X_test) [:,1]\n",
    "print \"ADASYN Sampling Test AUC\", \"       \", metrics.roc_auc_score(y_test, y_test_prob_RF)"
   ]
  },
  {
   "cell_type": "code",
   "execution_count": 51,
   "metadata": {
    "collapsed": false
   },
   "outputs": [
    {
     "data": {
      "text/html": [
       "<div>\n",
       "<table border=\"1\" class=\"dataframe\">\n",
       "  <thead>\n",
       "    <tr style=\"text-align: right;\">\n",
       "      <th>Predicted</th>\n",
       "      <th>0</th>\n",
       "      <th>All</th>\n",
       "    </tr>\n",
       "    <tr>\n",
       "      <th>True</th>\n",
       "      <th></th>\n",
       "      <th></th>\n",
       "    </tr>\n",
       "  </thead>\n",
       "  <tbody>\n",
       "    <tr>\n",
       "      <th>0</th>\n",
       "      <td>273</td>\n",
       "      <td>273</td>\n",
       "    </tr>\n",
       "    <tr>\n",
       "      <th>1</th>\n",
       "      <td>27</td>\n",
       "      <td>27</td>\n",
       "    </tr>\n",
       "    <tr>\n",
       "      <th>All</th>\n",
       "      <td>300</td>\n",
       "      <td>300</td>\n",
       "    </tr>\n",
       "  </tbody>\n",
       "</table>\n",
       "</div>"
      ],
      "text/plain": [
       "Predicted    0  All\n",
       "True               \n",
       "0          273  273\n",
       "1           27   27\n",
       "All        300  300"
      ]
     },
     "execution_count": 51,
     "metadata": {},
     "output_type": "execute_result"
    }
   ],
   "source": [
    "rfo=pd.crosstab(y_test, y_test_hat_RF, rownames=['True'], colnames=['Predicted'], margins=True)\n",
    "rfo"
   ]
  },
  {
   "cell_type": "markdown",
   "metadata": {},
   "source": [
    "# Training with Overpopulated Sample and Testing Pure Test and Pure Validation Samples---Random Oversampling"
   ]
  },
  {
   "cell_type": "code",
   "execution_count": 52,
   "metadata": {
    "collapsed": false
   },
   "outputs": [
    {
     "name": "stdout",
     "output_type": "stream",
     "text": [
      "('RandomOverSampling Train Accuracy', 0.99690402476780182)\n",
      "('RandomOverSampling Test Accuracy', 0.72666666666666668)\n",
      "RandomOverSampling Test Test AUC          0.751051417718\n"
     ]
    }
   ],
   "source": [
    "#using train-test in rosx and rosy\n",
    "from sklearn import metrics\n",
    "from sklearn.ensemble import RandomForestClassifier\n",
    "forest = RandomForestClassifier(n_estimators =50 ,max_depth=10, random_state=3)   # n_estimators are the number of trees\n",
    "forestfit_train = forest.fit(rosx, rosy)\n",
    "y_train_hat_RF = forest.predict(rosx)\n",
    "print(\"RandomOverSampling Train Accuracy\", metrics.accuracy_score(rosy, y_train_hat_RF))\n",
    "\n",
    "#Test\n",
    "y_test_hat_RF = (forest.predict_proba(X_test) [:,1] >0.28).astype(int)\n",
    "print(\"RandomOverSampling Test Accuracy\", metrics.accuracy_score(y_test, y_test_hat_RF))\n",
    "# calculate AUC\n",
    "y_test_prob_RF = forest.predict_proba(X_test) [:,1]\n",
    "print \"RandomOverSampling Test Test AUC\", \"        \", metrics.roc_auc_score(y_test, y_test_prob_RF)"
   ]
  },
  {
   "cell_type": "code",
   "execution_count": 53,
   "metadata": {
    "collapsed": false
   },
   "outputs": [
    {
     "data": {
      "text/html": [
       "<div>\n",
       "<table border=\"1\" class=\"dataframe\">\n",
       "  <thead>\n",
       "    <tr style=\"text-align: right;\">\n",
       "      <th>Predicted</th>\n",
       "      <th>0</th>\n",
       "      <th>1</th>\n",
       "      <th>All</th>\n",
       "    </tr>\n",
       "    <tr>\n",
       "      <th>True</th>\n",
       "      <th></th>\n",
       "      <th></th>\n",
       "      <th></th>\n",
       "    </tr>\n",
       "  </thead>\n",
       "  <tbody>\n",
       "    <tr>\n",
       "      <th>0</th>\n",
       "      <td>200</td>\n",
       "      <td>73</td>\n",
       "      <td>273</td>\n",
       "    </tr>\n",
       "    <tr>\n",
       "      <th>1</th>\n",
       "      <td>9</td>\n",
       "      <td>18</td>\n",
       "      <td>27</td>\n",
       "    </tr>\n",
       "    <tr>\n",
       "      <th>All</th>\n",
       "      <td>209</td>\n",
       "      <td>91</td>\n",
       "      <td>300</td>\n",
       "    </tr>\n",
       "  </tbody>\n",
       "</table>\n",
       "</div>"
      ],
      "text/plain": [
       "Predicted    0   1  All\n",
       "True                   \n",
       "0          200  73  273\n",
       "1            9  18   27\n",
       "All        209  91  300"
      ]
     },
     "execution_count": 53,
     "metadata": {},
     "output_type": "execute_result"
    }
   ],
   "source": [
    "rfo1=pd.crosstab(y_test, y_test_hat_RF, rownames=['True'], colnames=['Predicted'], margins=True)\n",
    "rfo1"
   ]
  },
  {
   "cell_type": "code",
   "execution_count": 62,
   "metadata": {
    "collapsed": false
   },
   "outputs": [
    {
     "name": "stdout",
     "output_type": "stream",
     "text": [
      "('SMOTE Sampling Train Accuracy', 0.99767801857585137)\n",
      "\n",
      "('SMOTE Sampling Test Accuracy', 0.92000000000000004)\n",
      "SMOTE Sampling Test AUC          0.736535069868\n"
     ]
    }
   ],
   "source": [
    "#Using -SMOTE\n",
    "\n",
    "from sklearn import metrics\n",
    "from sklearn.ensemble import RandomForestClassifier\n",
    "forest = RandomForestClassifier(n_estimators = 50,max_depth=10, random_state=3)   # n_estimators are the number of trees\n",
    "forestfit_train = forest.fit( smotx, smoty)\n",
    "y_train_hat_RF = forest.predict(smotx)\n",
    "print(\"SMOTE Sampling Train Accuracy\", metrics.accuracy_score(smoty, y_train_hat_RF))\n",
    "print \n",
    "\n",
    "#Test\n",
    "y_test_hat_RF =  (forest.predict_proba(X_test) [:,1] >0.5).astype(int)\n",
    "print(\"SMOTE Sampling Test Accuracy\", metrics.accuracy_score(y_test, y_test_hat_RF))\n",
    "# calculate AUC\n",
    "y_test_prob_RF = forest.predict_proba(X_test) [:,1]\n",
    "print \"SMOTE Sampling Test AUC\", \"        \", metrics.roc_auc_score(y_test, y_test_prob_RF)\n"
   ]
  },
  {
   "cell_type": "code",
   "execution_count": 63,
   "metadata": {
    "collapsed": false
   },
   "outputs": [
    {
     "data": {
      "text/html": [
       "<div>\n",
       "<table border=\"1\" class=\"dataframe\">\n",
       "  <thead>\n",
       "    <tr style=\"text-align: right;\">\n",
       "      <th>Predicted</th>\n",
       "      <th>0</th>\n",
       "      <th>1</th>\n",
       "      <th>All</th>\n",
       "    </tr>\n",
       "    <tr>\n",
       "      <th>True</th>\n",
       "      <th></th>\n",
       "      <th></th>\n",
       "      <th></th>\n",
       "    </tr>\n",
       "  </thead>\n",
       "  <tbody>\n",
       "    <tr>\n",
       "      <th>0</th>\n",
       "      <td>273</td>\n",
       "      <td>0</td>\n",
       "      <td>273</td>\n",
       "    </tr>\n",
       "    <tr>\n",
       "      <th>1</th>\n",
       "      <td>24</td>\n",
       "      <td>3</td>\n",
       "      <td>27</td>\n",
       "    </tr>\n",
       "    <tr>\n",
       "      <th>All</th>\n",
       "      <td>297</td>\n",
       "      <td>3</td>\n",
       "      <td>300</td>\n",
       "    </tr>\n",
       "  </tbody>\n",
       "</table>\n",
       "</div>"
      ],
      "text/plain": [
       "Predicted    0  1  All\n",
       "True                  \n",
       "0          273  0  273\n",
       "1           24  3   27\n",
       "All        297  3  300"
      ]
     },
     "execution_count": 63,
     "metadata": {},
     "output_type": "execute_result"
    }
   ],
   "source": [
    "rfo2=pd.crosstab(y_test, y_test_hat_RF, rownames=['True'], colnames=['Predicted'], margins=True)\n",
    "rfo2"
   ]
  },
  {
   "cell_type": "markdown",
   "metadata": {},
   "source": [
    "## Continuing with RANDOM OVERSAMPLING"
   ]
  },
  {
   "cell_type": "code",
   "execution_count": 14,
   "metadata": {
    "collapsed": false
   },
   "outputs": [
    {
     "name": "stdout",
     "output_type": "stream",
     "text": [
      "(700L, 60L)\n",
      "(300L, 60L)\n"
     ]
    }
   ],
   "source": [
    "# Let's create the samples from scratch.\n",
    "from sklearn.cross_validation import train_test_split\n",
    "X_train, X_test, y_train, y_test = train_test_split(X, y, test_size=0.30, random_state=3)\n",
    "X_train=X_train.values\n",
    "X_test=X_test.values\n",
    "print(X_train.shape)\n",
    "print (X_test.shape)"
   ]
  },
  {
   "cell_type": "code",
   "execution_count": 15,
   "metadata": {
    "collapsed": true
   },
   "outputs": [],
   "source": [
    "# standardize predictors to have mean=0 and sd=1\n",
    "from sklearn import preprocessing\n",
    "from sklearn.preprocessing import StandardScaler\n",
    "sc = StandardScaler()\n",
    "sc.fit(X_train)\n",
    "X_train = sc.transform(X_train)\n",
    "X_test= sc.transform(X_test)"
   ]
  },
  {
   "cell_type": "code",
   "execution_count": 16,
   "metadata": {
    "collapsed": false
   },
   "outputs": [
    {
     "name": "stdout",
     "output_type": "stream",
     "text": [
      "(1033L, 60L)\n",
      "(1033L,)\n"
     ]
    }
   ],
   "source": [
    "from imblearn.over_sampling import RandomOverSampler\n",
    "ros = RandomOverSampler(random_state=3, ratio = .60)\n",
    "rosx, rosy = ros.fit_sample(X_train, y_train)\n",
    "print rosx.shape\n",
    "print rosy.shape"
   ]
  },
  {
   "cell_type": "code",
   "execution_count": 17,
   "metadata": {
    "collapsed": false
   },
   "outputs": [
    {
     "data": {
      "text/plain": [
       "0.37463697967086157"
      ]
     },
     "execution_count": 17,
     "metadata": {},
     "output_type": "execute_result"
    }
   ],
   "source": [
    "rosy.mean()"
   ]
  },
  {
   "cell_type": "code",
   "execution_count": 146,
   "metadata": {
    "collapsed": false
   },
   "outputs": [
    {
     "name": "stdout",
     "output_type": "stream",
     "text": [
      "1.0\n",
      "Test_Score: 0.883333333333\n",
      "0.812711979379\n"
     ]
    }
   ],
   "source": [
    "from sklearn.ensemble import GradientBoostingClassifier\n",
    "from sklearn import metrics\n",
    "GB = GradientBoostingClassifier(n_estimators=100, max_depth=20, min_samples_split=8, random_state=3)\n",
    "GB.fit(rosx, rosy)\n",
    "y_train_hat_GB = GB.predict(rosx)\n",
    "print(metrics.accuracy_score(rosy, y_train_hat_GB))\n",
    "y_test_hat_GB = GB.predict(X_test)\n",
    "print  \"Test_Score:\", (metrics.accuracy_score(y_test, y_test_hat_GB))\n",
    "# predict probability of rearrest\n",
    "y_pred_prob_gb = GB.predict_proba(X_test)[:, 1]\n",
    "# calculate AUC\n",
    "print metrics.roc_auc_score(y_test, y_pred_prob_gb)"
   ]
  },
  {
   "cell_type": "code",
   "execution_count": 147,
   "metadata": {
    "collapsed": false
   },
   "outputs": [
    {
     "data": {
      "text/html": [
       "<div>\n",
       "<table border=\"1\" class=\"dataframe\">\n",
       "  <thead>\n",
       "    <tr style=\"text-align: right;\">\n",
       "      <th>Predicted</th>\n",
       "      <th>0</th>\n",
       "      <th>1</th>\n",
       "      <th>All</th>\n",
       "    </tr>\n",
       "    <tr>\n",
       "      <th>True</th>\n",
       "      <th></th>\n",
       "      <th></th>\n",
       "      <th></th>\n",
       "    </tr>\n",
       "  </thead>\n",
       "  <tbody>\n",
       "    <tr>\n",
       "      <th>0</th>\n",
       "      <td>259</td>\n",
       "      <td>14</td>\n",
       "      <td>273</td>\n",
       "    </tr>\n",
       "    <tr>\n",
       "      <th>1</th>\n",
       "      <td>21</td>\n",
       "      <td>6</td>\n",
       "      <td>27</td>\n",
       "    </tr>\n",
       "    <tr>\n",
       "      <th>All</th>\n",
       "      <td>280</td>\n",
       "      <td>20</td>\n",
       "      <td>300</td>\n",
       "    </tr>\n",
       "  </tbody>\n",
       "</table>\n",
       "</div>"
      ],
      "text/plain": [
       "Predicted    0   1  All\n",
       "True                   \n",
       "0          259  14  273\n",
       "1           21   6   27\n",
       "All        280  20  300"
      ]
     },
     "execution_count": 147,
     "metadata": {},
     "output_type": "execute_result"
    }
   ],
   "source": [
    "gbo=pd.crosstab(y_test, y_test_hat_GB, rownames=['True'], colnames=['Predicted'], margins=True)\n",
    "gbo"
   ]
  },
  {
   "cell_type": "code",
   "execution_count": 18,
   "metadata": {
    "collapsed": false
   },
   "outputs": [
    {
     "name": "stdout",
     "output_type": "stream",
     "text": [
      "0.999031945789\n",
      "0.923333333333\n",
      "0.770451770452\n"
     ]
    }
   ],
   "source": [
    "#using train-test-validation in ROSX AND ROSY\n",
    "from sklearn import metrics\n",
    "from sklearn.ensemble import RandomForestClassifier\n",
    "forest = RandomForestClassifier(n_estimators = 100 ,max_depth=10, random_state=3)   # n_estimators are the number of trees\n",
    "forestfit_train = forest.fit(rosx, rosy)\n",
    "y_train_hat_RF = forest.predict(rosx)\n",
    "print(metrics.accuracy_score(rosy, y_train_hat_RF))\n",
    "y_test_hat_RF = forest.predict(X_test)\n",
    "print(metrics.accuracy_score(y_test, y_test_hat_RF))\n",
    "# calculate AUC\n",
    "y_test_prob_RF = forest.predict_proba(X_test) [:,1]\n",
    "print metrics.roc_auc_score(y_test, y_test_prob_RF)"
   ]
  },
  {
   "cell_type": "code",
   "execution_count": 33,
   "metadata": {
    "collapsed": false
   },
   "outputs": [
    {
     "data": {
      "text/html": [
       "<div>\n",
       "<table border=\"1\" class=\"dataframe\">\n",
       "  <thead>\n",
       "    <tr style=\"text-align: right;\">\n",
       "      <th>Predicted</th>\n",
       "      <th>0</th>\n",
       "      <th>1</th>\n",
       "      <th>All</th>\n",
       "    </tr>\n",
       "    <tr>\n",
       "      <th>True</th>\n",
       "      <th></th>\n",
       "      <th></th>\n",
       "      <th></th>\n",
       "    </tr>\n",
       "  </thead>\n",
       "  <tbody>\n",
       "    <tr>\n",
       "      <th>0</th>\n",
       "      <td>265</td>\n",
       "      <td>8</td>\n",
       "      <td>273</td>\n",
       "    </tr>\n",
       "    <tr>\n",
       "      <th>1</th>\n",
       "      <td>21</td>\n",
       "      <td>6</td>\n",
       "      <td>27</td>\n",
       "    </tr>\n",
       "    <tr>\n",
       "      <th>All</th>\n",
       "      <td>286</td>\n",
       "      <td>14</td>\n",
       "      <td>300</td>\n",
       "    </tr>\n",
       "  </tbody>\n",
       "</table>\n",
       "</div>"
      ],
      "text/plain": [
       "Predicted    0   1  All\n",
       "True                   \n",
       "0          265   8  273\n",
       "1           21   6   27\n",
       "All        286  14  300"
      ]
     },
     "execution_count": 33,
     "metadata": {},
     "output_type": "execute_result"
    }
   ],
   "source": [
    "rfo3=pd.crosstab(y_test, y_test_hat_RF, rownames=['True'], colnames=['Predicted'], margins=True)\n",
    "rfo3"
   ]
  },
  {
   "cell_type": "code",
   "execution_count": 34,
   "metadata": {
    "collapsed": false
   },
   "outputs": [
    {
     "name": "stdout",
     "output_type": "stream",
     "text": [
      "True Negative: (TN) 273\n",
      "True Positive (TP): 6\n",
      "False Negative (FN): 21\n",
      "False Positive (FP): 0\n",
      "('Sensitivity-True positive rate (TPR) (Hit Rate or Recall)', 0.222)\n",
      "Specificity-True Negative Rate (TNR) 1.0\n",
      "False Negative Rate (FNR) (Miss Rate) 0.778\n",
      "False Positive Rate (FPR) (Fall-out Rate) 0.0\n"
     ]
    }
   ],
   "source": [
    "TN = rf[0][0]\n",
    "FN = rf[0][1]\n",
    "FP = rf[1][0]\n",
    "TP = rf[1][1]\n",
    "print \"True Negative: (TN)\", TN \n",
    "print \"True Positive (TP):\", TP \n",
    "print \"False Negative (FN):\", FN \n",
    "print \"False Positive (FP):\", FP \n",
    "from __future__ import division\n",
    "print( \"Sensitivity-True positive rate (TPR) (Hit Rate or Recall)\", round(TP/(TP+FN),3) )\n",
    "print \"Precision or positive predictive value (PPV)\", round(TP/(TP+FP),3)\n",
    "print \"Specificity-True Negative Rate (TNR)\", round(TN/(TN+FP),3) \n",
    "print \"False Negative Rate (FNR) (Miss Rate)\", round(FN/(FN+TP),3) \n",
    "print \"False Positive Rate (FPR) (Fall-out Rate)\", round(FP/(FP+TN),3) \n",
    "FPR=round(FP/(FP+TN),3) "
   ]
  },
  {
   "cell_type": "markdown",
   "metadata": {},
   "source": [
    "# Logistic Regression--OverSampling"
   ]
  },
  {
   "cell_type": "code",
   "execution_count": 405,
   "metadata": {
    "collapsed": false
   },
   "outputs": [
    {
     "name": "stdout",
     "output_type": "stream",
     "text": [
      "Train_Accuracy 0.970588235294\n",
      "Test_Accuracy: 0.863333333333\n",
      "CORRECT_AUC_USING_PROB 0.713743047076\n"
     ]
    }
   ],
   "source": [
    "from sklearn.linear_model import LogisticRegression\n",
    "from sklearn import metrics\n",
    "logreg = LogisticRegression(C=1e9,random_state=3 )\n",
    "logreg.fit(rosx, rosy)\n",
    "y_hat_train_log = logreg.predict(rosx)\n",
    "print \"Train_Accuracy\", metrics.accuracy_score(rosy, y_hat_train_log)\n",
    "y_test_hat_log = (logreg.predict_proba(X_test )[:, 1] > 0.45).astype(int)\n",
    "print \"Test_Accuracy:\", metrics.accuracy_score(y_test, y_test_hat_log)  \n",
    "\n",
    "# predict probability of rearrest\n",
    "y_test_prob_log = logreg.predict_proba(X_test )[:, 1]\n",
    "\n",
    "# calculate AUC\n",
    "print \"CORRECT_AUC_USING_PROB\", metrics.roc_auc_score(y_test, y_test_prob_log)"
   ]
  },
  {
   "cell_type": "code",
   "execution_count": null,
   "metadata": {
    "collapsed": false
   },
   "outputs": [],
   "source": []
  },
  {
   "cell_type": "code",
   "execution_count": 406,
   "metadata": {
    "collapsed": false
   },
   "outputs": [
    {
     "data": {
      "text/html": [
       "<div>\n",
       "<table border=\"1\" class=\"dataframe\">\n",
       "  <thead>\n",
       "    <tr style=\"text-align: right;\">\n",
       "      <th>Predicted</th>\n",
       "      <th>0</th>\n",
       "      <th>1</th>\n",
       "      <th>All</th>\n",
       "    </tr>\n",
       "    <tr>\n",
       "      <th>True</th>\n",
       "      <th></th>\n",
       "      <th></th>\n",
       "      <th></th>\n",
       "    </tr>\n",
       "  </thead>\n",
       "  <tbody>\n",
       "    <tr>\n",
       "      <th>0</th>\n",
       "      <td>248</td>\n",
       "      <td>25</td>\n",
       "      <td>273</td>\n",
       "    </tr>\n",
       "    <tr>\n",
       "      <th>1</th>\n",
       "      <td>16</td>\n",
       "      <td>11</td>\n",
       "      <td>27</td>\n",
       "    </tr>\n",
       "    <tr>\n",
       "      <th>All</th>\n",
       "      <td>264</td>\n",
       "      <td>36</td>\n",
       "      <td>300</td>\n",
       "    </tr>\n",
       "  </tbody>\n",
       "</table>\n",
       "</div>"
      ],
      "text/plain": [
       "Predicted    0   1  All\n",
       "True                   \n",
       "0          248  25  273\n",
       "1           16  11   27\n",
       "All        264  36  300"
      ]
     },
     "execution_count": 406,
     "metadata": {},
     "output_type": "execute_result"
    }
   ],
   "source": [
    "log=pd.crosstab(y_test, y_test_hat_log, rownames=['True'], colnames=['Predicted'], margins=True)\n",
    "log"
   ]
  },
  {
   "cell_type": "code",
   "execution_count": 39,
   "metadata": {
    "collapsed": false
   },
   "outputs": [
    {
     "name": "stdout",
     "output_type": "stream",
     "text": [
      "True Negative: (TN) 249\n",
      "True Positive (TP): 10\n",
      "False Negative (FN): 17\n",
      "False Positive (FP): 24\n",
      "Sensitivity-True positive rate (TPR) (Hit Rate or Recall 0.37\n",
      "Specificity-True Negative Rate (TNR) 0.912\n",
      "False Negative Rate (FNR) (Miss Rate) 0.63\n",
      "False Positive Rate (FPR) (Fall-out Rate) 0.088\n"
     ]
    }
   ],
   "source": [
    "TN = log[0][0]\n",
    "FN = log[0][1]\n",
    "FP = log[1][0]\n",
    "TP = log[1][1]\n",
    "print \"True Negative: (TN)\", TN \n",
    "print \"True Positive (TP):\", TP \n",
    "print \"False Negative (FN):\", FN \n",
    "print \"False Positive (FP):\", FP \n",
    "from __future__ import division\n",
    "print \"Sensitivity-True positive rate (TPR) (Hit Rate or Recall\", round(TP/(TP+FN),3) \n",
    "print \"Precision or positive predictive value (PPV)\", round(TP/(TP+FP),3)\n",
    "print \"Specificity-True Negative Rate (TNR)\", round(TN/(TN+FP),3) \n",
    "print \"False Negative Rate (FNR) (Miss Rate)\", round(FN/(FN+TP),3) \n",
    "print \"False Positive Rate (FPR) (Fall-out Rate)\", round(FP/(FP+TN),3) \n",
    "FPR=round(FP/(FP+TN),3) "
   ]
  },
  {
   "cell_type": "markdown",
   "metadata": {},
   "source": [
    "# Gradient Boosting--OverSampling"
   ]
  },
  {
   "cell_type": "code",
   "execution_count": null,
   "metadata": {
    "collapsed": false
   },
   "outputs": [],
   "source": [
    "from sklearn.ensemble import GradientBoostingClassifier\n",
    "from sklearn import metrics\n",
    "GB = GradientBoostingClassifier(n_estimators=100, max_depth=19, min_samples_split=8, random_state=3)\n",
    "GB.fit(rosx, rosy)\n",
    "y_train_hat_GB = GB.predict(rosx)\n",
    "print(metrics.accuracy_score(rosy, y_train_hat_GB))\n",
    "y_test_hat_GB = GB.predict(X_test)\n",
    "print  \"Test_Score:\", (metrics.accuracy_score(y_test, y_test_hat_GB))\n",
    "# predict probability of rearrest\n",
    "y_pred_prob_gb = GB.predict_proba(X_test)[:,1] \n",
    "# calculate AUC\n",
    "print metrics.roc_auc_score(y_test, y_pred_prob_gb)"
   ]
  },
  {
   "cell_type": "code",
   "execution_count": 410,
   "metadata": {
    "collapsed": false
   },
   "outputs": [
    {
     "data": {
      "text/html": [
       "<div>\n",
       "<table border=\"1\" class=\"dataframe\">\n",
       "  <thead>\n",
       "    <tr style=\"text-align: right;\">\n",
       "      <th>Predicted</th>\n",
       "      <th>0</th>\n",
       "      <th>1</th>\n",
       "      <th>All</th>\n",
       "    </tr>\n",
       "    <tr>\n",
       "      <th>True</th>\n",
       "      <th></th>\n",
       "      <th></th>\n",
       "      <th></th>\n",
       "    </tr>\n",
       "  </thead>\n",
       "  <tbody>\n",
       "    <tr>\n",
       "      <th>0</th>\n",
       "      <td>265</td>\n",
       "      <td>8</td>\n",
       "      <td>273</td>\n",
       "    </tr>\n",
       "    <tr>\n",
       "      <th>1</th>\n",
       "      <td>20</td>\n",
       "      <td>7</td>\n",
       "      <td>27</td>\n",
       "    </tr>\n",
       "    <tr>\n",
       "      <th>All</th>\n",
       "      <td>285</td>\n",
       "      <td>15</td>\n",
       "      <td>300</td>\n",
       "    </tr>\n",
       "  </tbody>\n",
       "</table>\n",
       "</div>"
      ],
      "text/plain": [
       "Predicted    0   1  All\n",
       "True                   \n",
       "0          265   8  273\n",
       "1           20   7   27\n",
       "All        285  15  300"
      ]
     },
     "execution_count": 410,
     "metadata": {},
     "output_type": "execute_result"
    }
   ],
   "source": [
    "gb=pd.crosstab(y_test, y_test_hat_GB, rownames=['True'], colnames=['Predicted'], margins=True)\n",
    "gb"
   ]
  },
  {
   "cell_type": "code",
   "execution_count": 44,
   "metadata": {
    "collapsed": false
   },
   "outputs": [
    {
     "name": "stdout",
     "output_type": "stream",
     "text": [
      "True Negative: (TN) 260\n",
      "True Positive (TP): 7\n",
      "False Negative (FN): 20\n",
      "False Positive (FP): 13\n",
      "('Sensitivity-True positive rate (TPR) (Hit Rate or Recall)', 0.259)\n",
      "Specificity-True Negative Rate (TNR) 0.952\n",
      "False Negative Rate (FNR) (Miss Rate) 0.741\n",
      "False Positive Rate (FPR) (Fall-out Rate) 0.048\n"
     ]
    }
   ],
   "source": [
    "TN = gb[0][0]\n",
    "FN = gb[0][1]\n",
    "FP = gb[1][0]\n",
    "TP = gb[1][1]\n",
    "print \"True Negative: (TN)\", TN \n",
    "print \"True Positive (TP):\", TP \n",
    "print \"False Negative (FN):\", FN \n",
    "print \"False Positive (FP):\", FP \n",
    "from __future__ import division\n",
    "print( \"Sensitivity-True positive rate (TPR) (Hit Rate or Recall)\", round(TP/(TP+FN),3) )\n",
    "print \"Precision or positive predictive value (PPV)\", round(TP/(TP+FP),3)\n",
    "print \"Specificity-True Negative Rate (TNR)\", round(TN/(TN+FP),3) \n",
    "print \"False Negative Rate (FNR) (Miss Rate)\", round(FN/(FN+TP),3) \n",
    "print \"False Positive Rate (FPR) (Fall-out Rate)\", round(FP/(FP+TN),3) \n",
    "FPR=round(FP/(FP+TN),3) "
   ]
  },
  {
   "cell_type": "markdown",
   "metadata": {},
   "source": [
    "# Probability >0.25"
   ]
  },
  {
   "cell_type": "code",
   "execution_count": 68,
   "metadata": {
    "collapsed": false
   },
   "outputs": [
    {
     "name": "stdout",
     "output_type": "stream",
     "text": [
      "0.974285714286\n",
      "0.923333333333\n",
      "0.574074074074\n"
     ]
    }
   ],
   "source": [
    "#using train-test-validation using Normal Sample\n",
    "from sklearn import metrics\n",
    "from sklearn.ensemble import RandomForestClassifier\n",
    "forest = RandomForestClassifier(n_estimators = 150 ,max_depth=10, random_state=3)   # n_estimators are the number of trees\n",
    "forestfit_train = forest.fit(X_train,y_train)\n",
    "y_train_hat_RF = forest.predict(X_train)\n",
    "print(metrics.accuracy_score(y_train, y_train_hat_RF))\n",
    "y_test_hat_RF = forest.predict(X_test)\n",
    "print(metrics.accuracy_score(y_test, y_test_hat_RF))\n",
    "# calculate AUC\n",
    "print metrics.roc_auc_score(y_test, y_test_hat_RF)"
   ]
  },
  {
   "cell_type": "code",
   "execution_count": 69,
   "metadata": {
    "collapsed": false
   },
   "outputs": [
    {
     "name": "stdout",
     "output_type": "stream",
     "text": [
      "[[273   0]\n",
      " [ 23   4]]\n",
      "             precision    recall  f1-score   support\n",
      "\n",
      "          0       0.92      1.00      0.96       273\n",
      "          1       1.00      0.15      0.26        27\n",
      "\n",
      "avg / total       0.93      0.92      0.90       300\n",
      "\n"
     ]
    }
   ],
   "source": [
    "from sklearn.metrics import confusion_matrix\n",
    "from sklearn.metrics import classification_report\n",
    "print(confusion_matrix(y_test, y_test_hat_RF))\n",
    "print(classification_report(y_test, y_test_hat_RF))"
   ]
  },
  {
   "cell_type": "code",
   "execution_count": null,
   "metadata": {
    "collapsed": false
   },
   "outputs": [],
   "source": [
    "# Using crossvalidation in adax and aday.\n",
    "from sklearn.model_selection import KFold\n",
    "from sklearn.model_selection import cross_val_score\n",
    "from sklearn import metrics\n",
    "from sklearn.ensemble import RandomForestClassifier\n",
    "kfold = KFold(n_splits=3, random_state=3)\n",
    "forest = RandomForestClassifier(n_estimators = 50, max_depth=10, random_state=3)   # n_estimators are the number of trees\n",
    "results_acc = cross_val_score(forest, adax, aday, cv=kfold, scoring='accuracy')\n",
    "print(\"Accuracy: %.3f%% (%.3f%%)\") % (results_acc.mean()*100.0, results_acc.std()*100.0)\n",
    "results_auc = cross_val_score(forest, adax, aday, cv=kfold, scoring='roc_auc')\n",
    "print(\"AUC: %.3f%% (%.3f%%)\") % (results_auc.mean()*100.0, results_auc.std()*100.0)"
   ]
  },
  {
   "cell_type": "code",
   "execution_count": 141,
   "metadata": {
    "collapsed": false
   },
   "outputs": [
    {
     "name": "stdout",
     "output_type": "stream",
     "text": [
      "0.906666666667\n",
      "0.5\n"
     ]
    }
   ],
   "source": [
    "from sklearn.model_selection import cross_val_predict\n",
    "y_val_hat_RF = cross_val_predict(forest, X_val, y_val)\n",
    "print(metrics.accuracy_score(y_val, y_val_hat_RF))\n",
    "print(metrics.roc_auc_score(y_val, y_val_hat_RF))"
   ]
  },
  {
   "cell_type": "code",
   "execution_count": 167,
   "metadata": {
    "collapsed": false
   },
   "outputs": [],
   "source": []
  },
  {
   "cell_type": "code",
   "execution_count": 106,
   "metadata": {
    "collapsed": false
   },
   "outputs": [
    {
     "data": {
      "image/png": "[encoded data removed]",
      "text/plain": [
       "<matplotlib.figure.Figure at 0xea97588>"
      ]
     },
     "metadata": {},
     "output_type": "display_data"
    }
   ],
   "source": [
    "import matplotlib.pyplot as plt\n",
    "fig, ax = plt.subplots()\n",
    "ax.scatter(y, y_hat_RF)\n",
    "ax.plot([y.min(), y.max()], [y.min(), y.max()], 'k--', lw=4)\n",
    "ax.set_xlabel('Measured')\n",
    "ax.set_ylabel('Predicted')\n",
    "plt.show()"
   ]
  },
  {
   "cell_type": "code",
   "execution_count": 56,
   "metadata": {
    "collapsed": false
   },
   "outputs": [
    {
     "name": "stdout",
     "output_type": "stream",
     "text": [
      "(1292L, 60L)\n",
      "(1292L,)\n"
     ]
    }
   ],
   "source": [
    "print rosx.shape\n",
    "print rosy.shape"
   ]
  },
  {
   "cell_type": "code",
   "execution_count": null,
   "metadata": {
    "collapsed": false
   },
   "outputs": [],
   "source": [
    "from sklearn.linear_model import RidgeClassifierCV\n",
    "ridge = RidgeClassifierCV (alphas=(0.1, 1.0, 5, 10.0), fit_intercept=False, normalize=True, cv=10)\n",
    "ridge.fit(X,y)\n",
    "print \"Ridge model:\", ridge.coef_"
   ]
  },
  {
   "cell_type": "code",
   "execution_count": null,
   "metadata": {
    "collapsed": false
   },
   "outputs": [],
   "source": [
    "print sof.sexrecidivism.mean()\n",
    "# compute null accuracy manually\n",
    "print y.mean()\n",
    "print 1 - y.mean()"
   ]
  },
  {
   "cell_type": "code",
   "execution_count": null,
   "metadata": {
    "collapsed": false
   },
   "outputs": [],
   "source": [
    "# plot mean square error for each fold\n",
    "m_log_alphascv = -np.log10(model.cv_alphas_)\n",
    "plt.figure()\n",
    "plt.plot(m_log_alphascv, model.cv_mse_path_, ':')\n",
    "plt.plot(m_log_alphascv, model.cv_mse_path_.mean(axis=-1), 'k',\n",
    "         label='Average across the folds', linewidth=2)\n",
    "plt.axvline(-np.log10(model.alpha_), linestyle='--', color='k',\n",
    "            label='alpha CV')\n",
    "plt.legend()\n",
    "plt.xlabel('-log(alpha)')\n",
    "plt.ylabel('Mean squared error')\n",
    "plt.title('Mean squared error on each fold')"
   ]
  },
  {
   "cell_type": "code",
   "execution_count": null,
   "metadata": {
    "collapsed": false
   },
   "outputs": [],
   "source": [
    "y_test_hat_RF     "
   ]
  },
  {
   "cell_type": "code",
   "execution_count": null,
   "metadata": {
    "collapsed": false
   },
   "outputs": [],
   "source": []
  },
  {
   "cell_type": "markdown",
   "metadata": {
    "collapsed": false
   },
   "source": [
    "Support Vector Machine"
   ]
  },
  {
   "cell_type": "code",
   "execution_count": 39,
   "metadata": {
    "collapsed": false
   },
   "outputs": [
    {
     "name": "stdout",
     "output_type": "stream",
     "text": [
      "0.915714285714\n",
      "AUC: 0.747133826208\n"
     ]
    }
   ],
   "source": [
    "from sklearn import metrics\n",
    "\n",
    "# SVM Classification\n",
    "from sklearn.svm import SVC\n",
    "svc = SVC(probability=True)\n",
    "svc.fit(X_train, y_train)\n",
    "y_hat_train_svc = svc.predict(X_train)\n",
    "print metrics.accuracy_score(y_train, y_hat_train_svc)\n",
    "\n",
    "risk = [0.05, 0.08, 0.10, 0.15, 0.20, 0.25, 0.30, 0.40, 0.5,0.6, 0.60, 0.70, 0.90]\n",
    "precision_svc = []\n",
    "recall_svc = []\n",
    "\n",
    "for i in risk:\n",
    "    y_test_hat_svc = (svc.predict_proba(X_test)[:,1] > i).astype(int)\n",
    "    precision_svc.append(metrics.precision_score(y_test, y_test_hat_svc))\n",
    "    recall_svc.append(metrics.recall_score(y_test, y_test_hat_svc))\n",
    "# predict probability of rearrest\n",
    "y_pred_prob_svc = svc.predict_proba(X_test )[:,1] \n",
    "# calculate AUC\n",
    "print \"AUC:\",metrics.roc_auc_score(y_test, y_pred_prob_svc)"
   ]
  },
  {
   "cell_type": "code",
   "execution_count": 40,
   "metadata": {
    "collapsed": false
   },
   "outputs": [
    {
     "data": {
      "image/png": "[encoded data removed]",
      "text/plain": [
       "<matplotlib.figure.Figure at 0xebee2b0>"
      ]
     },
     "metadata": {},
     "output_type": "display_data"
    }
   ],
   "source": [
    "from matplotlib import pyplot as plt\n",
    "plt.figure(figsize=(10,5)) \n",
    "plt.plot(risk, recall_svc, label=\"Recall Scores\")\n",
    "plt.plot(risk, precision_svc, label=\"Precision Scores\")\n",
    "plt.legend()\n",
    "plt.axis((0,1,0,1))\n",
    "plt.xlabel('Risk Levels') \n",
    "plt.ylabel('Recall Scores') \n",
    "plt.title('Recall and Precision Scores At Varying Levels of Risk') \n",
    "plt.show()"
   ]
  },
  {
   "cell_type": "code",
   "execution_count": null,
   "metadata": {
    "collapsed": false
   },
   "outputs": [],
   "source": []
  },
  {
   "cell_type": "code",
   "execution_count": 45,
   "metadata": {
    "collapsed": false
   },
   "outputs": [],
   "source": [
    "# Classification Report\n",
    "from sklearn.metrics import classification_report\n",
    "y_test_hat_svc = (svc.predict_proba(X_test)[:,1] > 0.09).astype(int)\n"
   ]
  },
  {
   "cell_type": "code",
   "execution_count": 46,
   "metadata": {
    "collapsed": false
   },
   "outputs": [
    {
     "data": {
      "text/html": [
       "<div>\n",
       "<table border=\"1\" class=\"dataframe\">\n",
       "  <thead>\n",
       "    <tr style=\"text-align: right;\">\n",
       "      <th>Predicted</th>\n",
       "      <th>0</th>\n",
       "      <th>1</th>\n",
       "      <th>All</th>\n",
       "    </tr>\n",
       "    <tr>\n",
       "      <th>True</th>\n",
       "      <th></th>\n",
       "      <th></th>\n",
       "      <th></th>\n",
       "    </tr>\n",
       "  </thead>\n",
       "  <tbody>\n",
       "    <tr>\n",
       "      <th>0</th>\n",
       "      <td>467</td>\n",
       "      <td>82</td>\n",
       "      <td>549</td>\n",
       "    </tr>\n",
       "    <tr>\n",
       "      <th>1</th>\n",
       "      <td>26</td>\n",
       "      <td>25</td>\n",
       "      <td>51</td>\n",
       "    </tr>\n",
       "    <tr>\n",
       "      <th>All</th>\n",
       "      <td>493</td>\n",
       "      <td>107</td>\n",
       "      <td>600</td>\n",
       "    </tr>\n",
       "  </tbody>\n",
       "</table>\n",
       "</div>"
      ],
      "text/plain": [
       "Predicted    0    1  All\n",
       "True                    \n",
       "0          467   82  549\n",
       "1           26   25   51\n",
       "All        493  107  600"
      ]
     },
     "execution_count": 46,
     "metadata": {},
     "output_type": "execute_result"
    }
   ],
   "source": [
    "svc1=pd.crosstab(y_test, y_test_hat_svc, rownames=['True'], colnames=['Predicted'], margins=True)\n",
    "svc1\n"
   ]
  },
  {
   "cell_type": "code",
   "execution_count": 97,
   "metadata": {
    "collapsed": false
   },
   "outputs": [
    {
     "name": "stdout",
     "output_type": "stream",
     "text": [
      "True Negative: (TN) 172\n",
      "True Positive (TP): 18\n",
      "False Negative (FN): 9\n",
      "False Positive (FP): 101\n",
      "('Sensitivity-True positive rate (TPR) (Hit Rate or Recall)', 0.667)\n",
      "Specificity-True Negative Rate (TNR) 0.63\n",
      "False Negative Rate (FNR) (Miss Rate) 0.333\n",
      "False Positive Rate (FPR) (Fall-out Rate) 0.37\n"
     ]
    }
   ],
   "source": [
    "TN = svc[0][0]\n",
    "FN = svc[0][1]\n",
    "FP = svc[1][0]\n",
    "TP = svc[1][1]\n",
    "print \"True Negative: (TN)\", TN \n",
    "print \"True Positive (TP):\", TP \n",
    "print \"False Negative (FN):\", FN \n",
    "print \"False Positive (FP):\", FP \n",
    "from __future__ import division\n",
    "print( \"Sensitivity-True positive rate (TPR) (Hit Rate or Recall)\", round(TP/(TP+FN),3) )\n",
    "print \"Precision or positive predictive value (PPV)\", round(TP/(TP+FP),3)\n",
    "print \"Specificity-True Negative Rate (TNR)\", round(TN/(TN+FP),3) \n",
    "print \"False Negative Rate (FNR) (Miss Rate)\", round(FN/(FN+TP),3) \n",
    "print \"False Positive Rate (FPR) (Fall-out Rate)\", round(FP/(FP+TN),3) \n",
    "FPR=round(FP/(FP+TN),3) "
   ]
  },
  {
   "cell_type": "markdown",
   "metadata": {
    "collapsed": true
   },
   "source": [
    "# Train-Test Splits"
   ]
  },
  {
   "cell_type": "markdown",
   "metadata": {},
   "source": [
    "# DEEP LEARNING"
   ]
  },
  {
   "cell_type": "code",
   "execution_count": 72,
   "metadata": {
    "collapsed": false
   },
   "outputs": [
    {
     "data": {
      "text/plain": [
       "(700L,)"
      ]
     },
     "execution_count": 72,
     "metadata": {},
     "output_type": "execute_result"
    }
   ],
   "source": [
    "y_train.shape"
   ]
  },
  {
   "cell_type": "code",
   "execution_count": 35,
   "metadata": {
    "collapsed": false
   },
   "outputs": [
    {
     "name": "stderr",
     "output_type": "stream",
     "text": [
      "Using Theano backend.\n"
     ]
    },
    {
     "ename": "NameError",
     "evalue": "name 'rosx' is not defined",
     "output_type": "error",
     "traceback": [
      "\u001b[0;31m---------------------------------------------------------------------------\u001b[0m",
      "\u001b[0;31mNameError\u001b[0m                                 Traceback (most recent call last)",
      "\u001b[0;32m<ipython-input-35-1ee316d72e24>\u001b[0m in \u001b[0;36m<module>\u001b[0;34m()\u001b[0m\n\u001b[1;32m     23\u001b[0m \u001b[0mmodel\u001b[0m\u001b[1;33m.\u001b[0m\u001b[0mcompile\u001b[0m\u001b[1;33m(\u001b[0m\u001b[0mloss\u001b[0m\u001b[1;33m=\u001b[0m\u001b[1;34m'binary_crossentropy'\u001b[0m\u001b[1;33m,\u001b[0m \u001b[0moptimizer\u001b[0m\u001b[1;33m=\u001b[0m\u001b[1;34m'adam'\u001b[0m\u001b[1;33m,\u001b[0m \u001b[0mmetrics\u001b[0m\u001b[1;33m=\u001b[0m\u001b[1;33m[\u001b[0m\u001b[1;34m'accuracy'\u001b[0m\u001b[1;33m]\u001b[0m\u001b[1;33m)\u001b[0m\u001b[1;33m\u001b[0m\u001b[0m\n\u001b[1;32m     24\u001b[0m \u001b[1;31m# Fit the model\u001b[0m\u001b[1;33m\u001b[0m\u001b[1;33m\u001b[0m\u001b[0m\n\u001b[0;32m---> 25\u001b[0;31m \u001b[0mmodel\u001b[0m\u001b[1;33m.\u001b[0m\u001b[0mfit\u001b[0m\u001b[1;33m(\u001b[0m\u001b[0mrosx\u001b[0m\u001b[1;33m,\u001b[0m \u001b[0mrosy\u001b[0m\u001b[1;33m,\u001b[0m \u001b[0mvalidation_data\u001b[0m\u001b[1;33m=\u001b[0m\u001b[1;33m(\u001b[0m\u001b[0mX_test\u001b[0m\u001b[1;33m,\u001b[0m \u001b[0my_test\u001b[0m\u001b[1;33m)\u001b[0m\u001b[1;33m,\u001b[0m \u001b[0mnb_epoch\u001b[0m\u001b[1;33m=\u001b[0m\u001b[1;36m150\u001b[0m\u001b[1;33m,\u001b[0m \u001b[0mbatch_size\u001b[0m\u001b[1;33m=\u001b[0m\u001b[1;36m20\u001b[0m\u001b[1;33m)\u001b[0m\u001b[1;33m\u001b[0m\u001b[0m\n\u001b[0m",
      "\u001b[0;31mNameError\u001b[0m: name 'rosx' is not defined"
     ]
    }
   ],
   "source": [
    "\n",
    "from keras.models import Sequential\n",
    "from keras.layers import Dense\n",
    "from sklearn.cross_validation import StratifiedKFold\n",
    "import numpy\n",
    "\n",
    "from keras.wrappers.scikit_learn import KerasClassifier\n",
    "from sklearn.cross_validation import cross_val_score\n",
    "from sklearn.preprocessing import LabelEncoder\n",
    "from sklearn.cross_validation import StratifiedKFold\n",
    "from sklearn.preprocessing import StandardScaler\n",
    "from sklearn.pipeline import Pipeline\n",
    "\n",
    "#X_test=X_test.values\n",
    "\n",
    "# create model\n",
    "model = Sequential()\n",
    "model.add(Dense(3, input_dim=60, init='uniform', activation='relu'))\n",
    "model.add(Dense(2, init='uniform', activation='relu'))\n",
    "model.add(Dense(1, init='uniform', activation='sigmoid'))\n",
    "\n",
    "# Compile model-- the loss func. is to evaluate a set of weights, the optimizer used to search diferent weights for the network\n",
    "model.compile(loss='binary_crossentropy', optimizer='adam', metrics=['accuracy'])\n",
    "# Fit the model\n",
    "model.fit(rosx, rosy, validation_data=(X_test, y_test), nb_epoch=150, batch_size=20)"
   ]
  },
  {
   "cell_type": "code",
   "execution_count": 89,
   "metadata": {
    "collapsed": false
   },
   "outputs": [
    {
     "name": "stdout",
     "output_type": "stream",
     "text": [
      "\r",
      " 32/300 [==>...........................] - ETA: 0s"
     ]
    },
    {
     "data": {
      "text/plain": [
       "0.0"
      ]
     },
     "execution_count": 89,
     "metadata": {},
     "output_type": "execute_result"
    }
   ],
   "source": [
    "y_hat_test_dl = model.predict_classes(X_test)\n"
   ]
  },
  {
   "cell_type": "code",
   "execution_count": 34,
   "metadata": {
    "collapsed": false
   },
   "outputs": [
    {
     "name": "stdout",
     "output_type": "stream",
     "text": [
      "Best: 0.928000 using {'init': 'uniform', 'optimizer': 'adam', 'nb_epoch': 100, 'batch_size': 10}\n",
      "0.920981 (0.013589) with: {'init': 'glorot_uniform', 'optimizer': 'rmsprop', 'nb_epoch': 100, 'batch_size': 10}\n",
      "0.922977 (0.016402) with: {'init': 'glorot_uniform', 'optimizer': 'adam', 'nb_epoch': 100, 'batch_size': 10}\n",
      "0.910977 (0.019744) with: {'init': 'glorot_uniform', 'optimizer': 'rmsprop', 'nb_epoch': 200, 'batch_size': 10}\n",
      "0.922980 (0.016025) with: {'init': 'glorot_uniform', 'optimizer': 'adam', 'nb_epoch': 200, 'batch_size': 10}\n",
      "0.912982 (0.014796) with: {'init': 'glorot_uniform', 'optimizer': 'rmsprop', 'nb_epoch': 300, 'batch_size': 10}\n",
      "0.914978 (0.019889) with: {'init': 'glorot_uniform', 'optimizer': 'adam', 'nb_epoch': 300, 'batch_size': 10}\n",
      "0.918988 (0.008591) with: {'init': 'normal', 'optimizer': 'rmsprop', 'nb_epoch': 100, 'batch_size': 10}\n",
      "0.915985 (0.011328) with: {'init': 'normal', 'optimizer': 'adam', 'nb_epoch': 100, 'batch_size': 10}\n",
      "0.914984 (0.012431) with: {'init': 'normal', 'optimizer': 'rmsprop', 'nb_epoch': 200, 'batch_size': 10}\n",
      "0.925989 (0.009979) with: {'init': 'normal', 'optimizer': 'adam', 'nb_epoch': 200, 'batch_size': 10}\n",
      "0.915985 (0.017224) with: {'init': 'normal', 'optimizer': 'rmsprop', 'nb_epoch': 300, 'batch_size': 10}\n",
      "0.911981 (0.016036) with: {'init': 'normal', 'optimizer': 'adam', 'nb_epoch': 300, 'batch_size': 10}\n",
      "0.918988 (0.008591) with: {'init': 'uniform', 'optimizer': 'rmsprop', 'nb_epoch': 100, 'batch_size': 10}\n",
      "0.927994 (0.010725) with: {'init': 'uniform', 'optimizer': 'adam', 'nb_epoch': 100, 'batch_size': 10}\n",
      "0.923990 (0.014203) with: {'init': 'uniform', 'optimizer': 'rmsprop', 'nb_epoch': 200, 'batch_size': 10}\n",
      "0.921982 (0.012825) with: {'init': 'uniform', 'optimizer': 'adam', 'nb_epoch': 200, 'batch_size': 10}\n",
      "0.911975 (0.020929) with: {'init': 'uniform', 'optimizer': 'rmsprop', 'nb_epoch': 300, 'batch_size': 10}\n",
      "0.923990 (0.008688) with: {'init': 'uniform', 'optimizer': 'adam', 'nb_epoch': 300, 'batch_size': 10}\n",
      "0.905975 (0.023887) with: {'init': 'glorot_uniform', 'optimizer': 'rmsprop', 'nb_epoch': 100, 'batch_size': 20}\n",
      "0.918988 (0.008591) with: {'init': 'glorot_uniform', 'optimizer': 'adam', 'nb_epoch': 100, 'batch_size': 20}\n",
      "0.918988 (0.008591) with: {'init': 'glorot_uniform', 'optimizer': 'rmsprop', 'nb_epoch': 200, 'batch_size': 20}\n",
      "0.920990 (0.008691) with: {'init': 'glorot_uniform', 'optimizer': 'adam', 'nb_epoch': 200, 'batch_size': 20}\n",
      "0.912979 (0.017244) with: {'init': 'glorot_uniform', 'optimizer': 'rmsprop', 'nb_epoch': 300, 'batch_size': 20}\n",
      "0.906976 (0.021029) with: {'init': 'glorot_uniform', 'optimizer': 'adam', 'nb_epoch': 300, 'batch_size': 20}\n",
      "0.918988 (0.008591) with: {'init': 'normal', 'optimizer': 'rmsprop', 'nb_epoch': 100, 'batch_size': 20}\n",
      "0.918988 (0.008591) with: {'init': 'normal', 'optimizer': 'adam', 'nb_epoch': 100, 'batch_size': 20}\n",
      "0.916983 (0.012672) with: {'init': 'normal', 'optimizer': 'rmsprop', 'nb_epoch': 200, 'batch_size': 20}\n",
      "0.916980 (0.015066) with: {'init': 'normal', 'optimizer': 'adam', 'nb_epoch': 200, 'batch_size': 20}\n",
      "0.914001 (0.008602) with: {'init': 'normal', 'optimizer': 'rmsprop', 'nb_epoch': 300, 'batch_size': 20}\n",
      "0.918988 (0.008591) with: {'init': 'normal', 'optimizer': 'adam', 'nb_epoch': 300, 'batch_size': 20}\n",
      "0.918988 (0.008591) with: {'init': 'uniform', 'optimizer': 'rmsprop', 'nb_epoch': 100, 'batch_size': 20}\n",
      "0.917987 (0.009380) with: {'init': 'uniform', 'optimizer': 'adam', 'nb_epoch': 100, 'batch_size': 20}\n",
      "0.918988 (0.008591) with: {'init': 'uniform', 'optimizer': 'rmsprop', 'nb_epoch': 200, 'batch_size': 20}\n",
      "0.918979 (0.020133) with: {'init': 'uniform', 'optimizer': 'adam', 'nb_epoch': 200, 'batch_size': 20}\n",
      "0.924994 (0.010727) with: {'init': 'uniform', 'optimizer': 'rmsprop', 'nb_epoch': 300, 'batch_size': 20}\n",
      "0.924991 (0.008908) with: {'init': 'uniform', 'optimizer': 'adam', 'nb_epoch': 300, 'batch_size': 20}\n",
      "0.918988 (0.008591) with: {'init': 'glorot_uniform', 'optimizer': 'rmsprop', 'nb_epoch': 100, 'batch_size': 30}\n",
      "0.917981 (0.014028) with: {'init': 'glorot_uniform', 'optimizer': 'adam', 'nb_epoch': 100, 'batch_size': 30}\n",
      "0.918988 (0.008591) with: {'init': 'glorot_uniform', 'optimizer': 'rmsprop', 'nb_epoch': 200, 'batch_size': 30}\n",
      "0.916995 (0.005181) with: {'init': 'glorot_uniform', 'optimizer': 'adam', 'nb_epoch': 200, 'batch_size': 30}\n",
      "0.923993 (0.006249) with: {'init': 'glorot_uniform', 'optimizer': 'rmsprop', 'nb_epoch': 300, 'batch_size': 30}\n",
      "0.912979 (0.017244) with: {'init': 'glorot_uniform', 'optimizer': 'adam', 'nb_epoch': 300, 'batch_size': 30}\n",
      "0.918988 (0.008591) with: {'init': 'normal', 'optimizer': 'rmsprop', 'nb_epoch': 100, 'batch_size': 30}\n",
      "0.918988 (0.008591) with: {'init': 'normal', 'optimizer': 'adam', 'nb_epoch': 100, 'batch_size': 30}\n",
      "0.919983 (0.012184) with: {'init': 'normal', 'optimizer': 'rmsprop', 'nb_epoch': 200, 'batch_size': 30}\n",
      "0.917978 (0.023232) with: {'init': 'normal', 'optimizer': 'adam', 'nb_epoch': 200, 'batch_size': 30}\n",
      "0.916974 (0.020925) with: {'init': 'normal', 'optimizer': 'rmsprop', 'nb_epoch': 300, 'batch_size': 30}\n",
      "0.914984 (0.012431) with: {'init': 'normal', 'optimizer': 'adam', 'nb_epoch': 300, 'batch_size': 30}\n",
      "0.918988 (0.008591) with: {'init': 'uniform', 'optimizer': 'rmsprop', 'nb_epoch': 100, 'batch_size': 30}\n",
      "0.921982 (0.012825) with: {'init': 'uniform', 'optimizer': 'adam', 'nb_epoch': 100, 'batch_size': 30}\n",
      "0.918988 (0.008591) with: {'init': 'uniform', 'optimizer': 'rmsprop', 'nb_epoch': 200, 'batch_size': 30}\n",
      "0.920984 (0.011414) with: {'init': 'uniform', 'optimizer': 'adam', 'nb_epoch': 200, 'batch_size': 30}\n",
      "0.926987 (0.011127) with: {'init': 'uniform', 'optimizer': 'rmsprop', 'nb_epoch': 300, 'batch_size': 30}\n",
      "0.914984 (0.012431) with: {'init': 'uniform', 'optimizer': 'adam', 'nb_epoch': 300, 'batch_size': 30}\n"
     ]
    }
   ],
   "source": [
    "from keras.models import Sequential\n",
    "from keras.layers import Dense\n",
    "from keras.wrappers.scikit_learn import KerasClassifier\n",
    "from sklearn.grid_search import GridSearchCV\n",
    "import numpy\n",
    "# Function to create model, required for KerasClassifier\n",
    "def create_model(optimizer='rmsprop', init='glorot_uniform'):\n",
    "# create model\n",
    "    model = Sequential()\n",
    "    model.add(Dense(4, input_dim=60, init=init, activation='relu'))\n",
    "    model.add(Dense(3, init=init, activation='relu'))\n",
    "    model.add(Dense(2, init=init, activation='relu'))\n",
    "    model.add(Dense(1, init=init, activation='sigmoid'))\n",
    "    # Compile model\n",
    "    model.compile(loss='binary_crossentropy', optimizer=optimizer, metrics=['accuracy'])\n",
    "    return model\n",
    "# fix random seed for reproducibility\n",
    "seed = 3\n",
    "numpy.random.seed(seed)\n",
    "\n",
    "#X = X.values\n",
    "# create model\n",
    "model = KerasClassifier(build_fn=create_model, verbose=0)\n",
    "# grid search epochs, batch size and optimizer\n",
    "optimizers = ['rmsprop', 'adam']\n",
    "init = ['glorot_uniform', 'normal', 'uniform']\n",
    "epochs = numpy.array([100, 200, 300])\n",
    "batches = numpy.array([10, 20, 30])\n",
    "param_grid = dict(optimizer=optimizers, nb_epoch=epochs, batch_size=batches, init=init)\n",
    "grid = GridSearchCV(estimator=model, param_grid=param_grid)\n",
    "grid_result = grid.fit(X, y)\n",
    "# summarize results\n",
    "print(\"Best: %f using %s\" % (grid_result.best_score_, grid_result.best_params_))\n",
    "for params, mean_score, scores in grid_result.grid_scores_:\n",
    "    print(\"%f (%f) with: %r\" % (scores.mean(), scores.std(), params))"
   ]
  },
  {
   "cell_type": "code",
   "execution_count": 110,
   "metadata": {
    "collapsed": false
   },
   "outputs": [
    {
     "data": {
      "text/plain": [
       "(1000, 60)"
      ]
     },
     "execution_count": 110,
     "metadata": {},
     "output_type": "execute_result"
    }
   ],
   "source": [
    "X.shape"
   ]
  },
  {
   "cell_type": "code",
   "execution_count": 129,
   "metadata": {
    "collapsed": false
   },
   "outputs": [
    {
     "name": "stdout",
     "output_type": "stream",
     "text": [
      "\r",
      " 20/150 [===>..........................] - ETA: 0s"
     ]
    },
    {
     "data": {
      "text/plain": [
       "0.7400336889387984"
      ]
     },
     "execution_count": 129,
     "metadata": {},
     "output_type": "execute_result"
    }
   ],
   "source": [
    "y_hat_test_dl=model.predict_classes(X_test, batch_size=20, verbose=1)\n",
    "from sklearn.metrics import roc_auc_score\n",
    "roc_auc_score(y_test, y_hat_test_dl)"
   ]
  },
  {
   "cell_type": "code",
   "execution_count": 130,
   "metadata": {
    "collapsed": false
   },
   "outputs": [
    {
     "name": "stdout",
     "output_type": "stream",
     "text": [
      "             precision    recall  f1-score   support\n",
      "\n",
      "          0       0.96      0.94      0.95       137\n",
      "          1       0.47      0.54      0.50        13\n",
      "\n",
      "avg / total       0.91      0.91      0.91       150\n",
      "\n"
     ]
    }
   ],
   "source": [
    "# Classification Report\n",
    "from sklearn.metrics import classification_report\n",
    "report_dl = classification_report(y_test, y_hat_test_dl)\n",
    "print(report_dl)"
   ]
  },
  {
   "cell_type": "code",
   "execution_count": null,
   "metadata": {
    "collapsed": false
   },
   "outputs": [],
   "source": [
    "zip(y_test, y_hat_test_dl)"
   ]
  },
  {
   "cell_type": "code",
   "execution_count": null,
   "metadata": {
    "collapsed": false
   },
   "outputs": [],
   "source": [
    "dl=pd.crosstab(y_test, y_hat_test_dl, rownames=['True'], colnames=['Predicted'], margins=True)\n",
    "dl"
   ]
  },
  {
   "cell_type": "code",
   "execution_count": null,
   "metadata": {
    "collapsed": true
   },
   "outputs": [],
   "source": [
    "# standardize predictors to have mean=0 and sd=1\n",
    "from sklearn import preprocessing\n",
    "from sklearn.preprocessing import StandardScaler\n",
    "sc = StandardScaler()\n",
    "sc.fit(X_train)\n",
    "X_train = sc.transform(X_train)\n",
    "X_test = sc.transform(X_test)"
   ]
  },
  {
   "cell_type": "code",
   "execution_count": 53,
   "metadata": {
    "collapsed": false
   },
   "outputs": [
    {
     "name": "stdout",
     "output_type": "stream",
     "text": [
      "0.9175\n"
     ]
    }
   ],
   "source": [
    "# Preparing your data using normalization or standardization on the entire training dataset before learning would not\n",
    "# be a valid test because the training dataset would have been infuenced by the scale of the data in the test set.\n",
    "from sklearn.pipeline import Pipeline\n",
    "from sklearn.preprocessing import StandardScaler\n",
    "from sklearn.discriminant_analysis import LinearDiscriminantAnalysis\n",
    "from sklearn.model_selection import KFold\n",
    "# create pipeline\n",
    "estimators = []\n",
    "estimators.append(('standardize', StandardScaler()))\n",
    "estimators.append(('lda', LinearDiscriminantAnalysis()))\n",
    "model = Pipeline(estimators)\n",
    "# evaluate pipeline\n",
    "kfold = KFold(n_splits=10, random_state=3)\n",
    "results = cross_val_score(model, X, y, cv=kfold)\n",
    "print(results.mean())"
   ]
  },
  {
   "cell_type": "code",
   "execution_count": 55,
   "metadata": {
    "collapsed": true
   },
   "outputs": [],
   "source": [
    "# Load libraries\n",
    "import numpy\n",
    "from matplotlib import pyplot\n",
    "from pandas import read_csv\n",
    "from pandas import set_option\n",
    "from pandas.tools.plotting import scatter_matrix\n",
    "from sklearn.preprocessing import StandardScaler\n",
    "from sklearn.model_selection import train_test_split\n",
    "from sklearn.model_selection import KFold\n",
    "from sklearn.model_selection import cross_val_score\n",
    "from sklearn.model_selection import GridSearchCV\n",
    "from sklearn.metrics import classification_report\n",
    "from sklearn.metrics import confusion_matrix\n",
    "from sklearn.metrics import accuracy_score\n",
    "from sklearn.pipeline import Pipeline\n",
    "from sklearn.linear_model import LogisticRegression\n",
    "from sklearn.tree import DecisionTreeClassifier\n",
    "from sklearn.neighbors import KNeighborsClassifier\n",
    "from sklearn.discriminant_analysis import LinearDiscriminantAnalysis\n",
    "from sklearn.naive_bayes import GaussianNB\n",
    "from sklearn.svm import SVC\n",
    "from sklearn.ensemble import AdaBoostClassifier\n",
    "from sklearn.ensemble import GradientBoostingClassifier\n",
    "from sklearn.ensemble import RandomForestClassifier\n",
    "from sklearn.ensemble import ExtraTreesClassifier"
   ]
  },
  {
   "cell_type": "code",
   "execution_count": 57,
   "metadata": {
    "collapsed": false
   },
   "outputs": [
    {
     "name": "stdout",
     "output_type": "stream",
     "text": [
      "ScaledLR: 0.780610 (0.049312)\n",
      "ScaledLDA: 0.784002 (0.038876)\n",
      "ScaledKNN: 0.691833 (0.064991)\n",
      "ScaledNB: 0.728342 (0.067705)\n",
      "ScaledSVM: 0.811733 (0.058133)\n",
      "ScaledGB: 0.849845 (0.053520)\n",
      "ScaledRF: 0.783698 (0.057097)\n",
      "ScaledAB: 0.821672 (0.024539)\n"
     ]
    },
    {
     "data": {
      "image/png": "[encoded data removed]",
      "text/plain": [
       "<matplotlib.figure.Figure at 0xf471f60>"
      ]
     },
     "metadata": {},
     "output_type": "display_data"
    }
   ],
   "source": [
    "# Compare Algorithms\n",
    "# Test options and evaluation metric\n",
    "num_folds = 10\n",
    "seed = 7\n",
    "\n",
    "# Standardize the dataset\n",
    "pipelines = []\n",
    "pipelines.append(('ScaledLR', Pipeline([('Scaler', StandardScaler()),('LR', LogisticRegression())])))\n",
    "pipelines.append(('ScaledLDA', Pipeline([('Scaler', StandardScaler()),('LDA', LinearDiscriminantAnalysis())])))\n",
    "pipelines.append(('ScaledKNN', Pipeline([('Scaler', StandardScaler()),('KNN', KNeighborsClassifier())])))\n",
    "pipelines.append(('ScaledNB', Pipeline([('Scaler', StandardScaler()),('NB', GaussianNB())])))\n",
    "pipelines.append(('ScaledSVM', Pipeline([('Scaler', StandardScaler()),('SVM', SVC())])))\n",
    "pipelines.append(('ScaledGB', Pipeline([('Scaler', StandardScaler()),('GB', GradientBoostingClassifier(n_estimators=50, max_depth=20, min_samples_split=8, learning_rate=0.1, random_state=3))])))\n",
    "pipelines.append(('ScaledRF', Pipeline([('Scaler', StandardScaler()),('RF', RandomForestClassifier())])))\n",
    "pipelines.append(('ScaledAB', Pipeline([('Scaler', StandardScaler()),('AB', AdaBoostClassifier())])))\n",
    "\n",
    "\n",
    "\n",
    "\n",
    "results = []\n",
    "names = []\n",
    "for name, model in pipelines:\n",
    "    kfold = KFold(n_splits=num_folds, random_state=seed)\n",
    "    cv_results = cross_val_score(model, X_train, y_train, cv=kfold, scoring='roc_auc')\n",
    "    results.append(cv_results)\n",
    "    names.append(name)\n",
    "    msg = \"%s: %f (%f)\" % (name, cv_results.mean(), cv_results.std())\n",
    "    print(msg)\n",
    "\n",
    "\n",
    "# boxplot algorithm comparison---you can see the variance among models as well \n",
    "fig = pyplot.figure()\n",
    "fig.suptitle('Scaled Algorithm Comparison')\n",
    "ax = fig.add_subplot(111)\n",
    "pyplot.boxplot(results)\n",
    "ax.set_xticklabels(names)\n",
    "pyplot.show()\n"
   ]
  },
  {
   "cell_type": "code",
   "execution_count": null,
   "metadata": {
    "collapsed": true
   },
   "outputs": [],
   "source": [
    "predictions = model.predict(rescaledValidationX)\n"
   ]
  },
  {
   "cell_type": "code",
   "execution_count": null,
   "metadata": {
    "collapsed": false
   },
   "outputs": [],
   "source": []
  },
  {
   "cell_type": "code",
   "execution_count": null,
   "metadata": {
    "collapsed": false
   },
   "outputs": [],
   "source": []
  },
  {
   "cell_type": "code",
   "execution_count": 58,
   "metadata": {
    "collapsed": false
   },
   "outputs": [],
   "source": [
    "from sklearn.metrics import precision_recall_curve\n",
    "from itertools import cycle\n",
    "# setup plot details\n",
    "colors = cycle(['navy', 'turquoise', 'darkorange', 'cornflowerblue', 'teal'])\n",
    "lw = 2\n",
    "\n",
    "classifier = LinearDiscriminantAnalysis(n_components=None, priors=None, shrinkage=None,solver='svd',\n",
    "                                        store_covariance=False, tol=0.0001)\n",
    "y_pred = classifier.fit(X_train, y_train).decision_function(X_test)"
   ]
  },
  {
   "cell_type": "code",
   "execution_count": 59,
   "metadata": {
    "collapsed": false
   },
   "outputs": [
    {
     "ename": "ValueError",
     "evalue": "Can't handle mix of binary and continuous",
     "output_type": "error",
     "traceback": [
      "\u001b[0;31m---------------------------------------------------------------------------\u001b[0m",
      "\u001b[0;31mValueError\u001b[0m                                Traceback (most recent call last)",
      "\u001b[0;32m<ipython-input-59-537cd165b310>\u001b[0m in \u001b[0;36m<module>\u001b[0;34m()\u001b[0m\n\u001b[1;32m      1\u001b[0m \u001b[1;32mfrom\u001b[0m \u001b[0msklearn\u001b[0m\u001b[1;33m.\u001b[0m\u001b[0mmetrics\u001b[0m \u001b[1;32mimport\u001b[0m \u001b[0mrecall_score\u001b[0m\u001b[1;33m\u001b[0m\u001b[0m\n\u001b[0;32m----> 2\u001b[0;31m \u001b[0mrecall_score\u001b[0m\u001b[1;33m(\u001b[0m\u001b[0my_test\u001b[0m\u001b[1;33m,\u001b[0m \u001b[0my_pred\u001b[0m\u001b[1;33m,\u001b[0m \u001b[0maverage\u001b[0m\u001b[1;33m=\u001b[0m\u001b[1;34m'macro'\u001b[0m\u001b[1;33m)\u001b[0m\u001b[1;33m\u001b[0m\u001b[0m\n\u001b[0m",
      "\u001b[0;32mC:\\Anaconda3\\envs\\py27\\lib\\site-packages\\sklearn\\metrics\\classification.pyc\u001b[0m in \u001b[0;36mrecall_score\u001b[0;34m(y_true, y_pred, labels, pos_label, average, sample_weight)\u001b[0m\n\u001b[1;32m   1335\u001b[0m                                                  \u001b[0maverage\u001b[0m\u001b[1;33m=\u001b[0m\u001b[0maverage\u001b[0m\u001b[1;33m,\u001b[0m\u001b[1;33m\u001b[0m\u001b[0m\n\u001b[1;32m   1336\u001b[0m                                                  \u001b[0mwarn_for\u001b[0m\u001b[1;33m=\u001b[0m\u001b[1;33m(\u001b[0m\u001b[1;34m'recall'\u001b[0m\u001b[1;33m,\u001b[0m\u001b[1;33m)\u001b[0m\u001b[1;33m,\u001b[0m\u001b[1;33m\u001b[0m\u001b[0m\n\u001b[0;32m-> 1337\u001b[0;31m                                                  sample_weight=sample_weight)\n\u001b[0m\u001b[1;32m   1338\u001b[0m     \u001b[1;32mreturn\u001b[0m \u001b[0mr\u001b[0m\u001b[1;33m\u001b[0m\u001b[0m\n\u001b[1;32m   1339\u001b[0m \u001b[1;33m\u001b[0m\u001b[0m\n",
      "\u001b[0;32mC:\\Anaconda3\\envs\\py27\\lib\\site-packages\\sklearn\\metrics\\classification.pyc\u001b[0m in \u001b[0;36mprecision_recall_fscore_support\u001b[0;34m(y_true, y_pred, beta, labels, pos_label, average, warn_for, sample_weight)\u001b[0m\n\u001b[1;32m   1001\u001b[0m         \u001b[1;32mraise\u001b[0m \u001b[0mValueError\u001b[0m\u001b[1;33m(\u001b[0m\u001b[1;34m\"beta should be >0 in the F-beta score\"\u001b[0m\u001b[1;33m)\u001b[0m\u001b[1;33m\u001b[0m\u001b[0m\n\u001b[1;32m   1002\u001b[0m \u001b[1;33m\u001b[0m\u001b[0m\n\u001b[0;32m-> 1003\u001b[0;31m     \u001b[0my_type\u001b[0m\u001b[1;33m,\u001b[0m \u001b[0my_true\u001b[0m\u001b[1;33m,\u001b[0m \u001b[0my_pred\u001b[0m \u001b[1;33m=\u001b[0m \u001b[0m_check_targets\u001b[0m\u001b[1;33m(\u001b[0m\u001b[0my_true\u001b[0m\u001b[1;33m,\u001b[0m \u001b[0my_pred\u001b[0m\u001b[1;33m)\u001b[0m\u001b[1;33m\u001b[0m\u001b[0m\n\u001b[0m\u001b[1;32m   1004\u001b[0m     \u001b[0mpresent_labels\u001b[0m \u001b[1;33m=\u001b[0m \u001b[0munique_labels\u001b[0m\u001b[1;33m(\u001b[0m\u001b[0my_true\u001b[0m\u001b[1;33m,\u001b[0m \u001b[0my_pred\u001b[0m\u001b[1;33m)\u001b[0m\u001b[1;33m\u001b[0m\u001b[0m\n\u001b[1;32m   1005\u001b[0m \u001b[1;33m\u001b[0m\u001b[0m\n",
      "\u001b[0;32mC:\\Anaconda3\\envs\\py27\\lib\\site-packages\\sklearn\\metrics\\classification.pyc\u001b[0m in \u001b[0;36m_check_targets\u001b[0;34m(y_true, y_pred)\u001b[0m\n\u001b[1;32m     80\u001b[0m     \u001b[1;32mif\u001b[0m \u001b[0mlen\u001b[0m\u001b[1;33m(\u001b[0m\u001b[0my_type\u001b[0m\u001b[1;33m)\u001b[0m \u001b[1;33m>\u001b[0m \u001b[1;36m1\u001b[0m\u001b[1;33m:\u001b[0m\u001b[1;33m\u001b[0m\u001b[0m\n\u001b[1;32m     81\u001b[0m         raise ValueError(\"Can't handle mix of {0} and {1}\"\n\u001b[0;32m---> 82\u001b[0;31m                          \"\".format(type_true, type_pred))\n\u001b[0m\u001b[1;32m     83\u001b[0m \u001b[1;33m\u001b[0m\u001b[0m\n\u001b[1;32m     84\u001b[0m     \u001b[1;31m# We can't have more than one value on y_type => The set is no more needed\u001b[0m\u001b[1;33m\u001b[0m\u001b[1;33m\u001b[0m\u001b[0m\n",
      "\u001b[0;31mValueError\u001b[0m: Can't handle mix of binary and continuous"
     ]
    }
   ],
   "source": [
    "from sklearn.metrics import recall_score\n",
    "recall_score(y_test, y_pred, average='macro') "
   ]
  },
  {
   "cell_type": "code",
   "execution_count": 113,
   "metadata": {
    "collapsed": false
   },
   "outputs": [
    {
     "name": "stdout",
     "output_type": "stream",
     "text": [
      "('LR', LogisticRegression(C=1.0, class_weight=None, dual=False, fit_intercept=True,\n",
      "          intercept_scaling=1, max_iter=100, multi_class='ovr', n_jobs=1,\n",
      "          penalty='l2', random_state=None, solver='liblinear', tol=0.0001,\n",
      "          verbose=0, warm_start=False))\n",
      "('LDA', LinearDiscriminantAnalysis(n_components=None, priors=None, shrinkage=None,\n",
      "              solver='svd', store_covariance=False, tol=0.0001))\n",
      "('KNN', KNeighborsClassifier(algorithm='auto', leaf_size=30, metric='minkowski',\n",
      "           metric_params=None, n_jobs=1, n_neighbors=5, p=2,\n",
      "           weights='uniform'))\n",
      "('CART', DecisionTreeClassifier(class_weight=None, criterion='gini', max_depth=None,\n",
      "            max_features=None, max_leaf_nodes=None,\n",
      "            min_impurity_split=1e-07, min_samples_leaf=1,\n",
      "            min_samples_split=2, min_weight_fraction_leaf=0.0,\n",
      "            presort=False, random_state=None, splitter='best'))\n",
      "('NB', GaussianNB(priors=None))\n",
      "('SVM', SVC(C=1.0, cache_size=200, class_weight=None, coef0=0.0,\n",
      "  decision_function_shape=None, degree=3, gamma='auto', kernel='rbf',\n",
      "  max_iter=-1, probability=False, random_state=None, shrinking=True,\n",
      "  tol=0.001, verbose=False))\n",
      "('GB', GradientBoostingClassifier(criterion='friedman_mse', init=None,\n",
      "              learning_rate=0.1, loss='deviance', max_depth=3,\n",
      "              max_features=None, max_leaf_nodes=None,\n",
      "              min_impurity_split=1e-07, min_samples_leaf=1,\n",
      "              min_samples_split=2, min_weight_fraction_leaf=0.0,\n",
      "              n_estimators=100, presort='auto', random_state=None,\n",
      "              subsample=1.0, verbose=0, warm_start=False))\n",
      "('RF', RandomForestClassifier(bootstrap=True, class_weight=None, criterion='gini',\n",
      "            max_depth=None, max_features='auto', max_leaf_nodes=None,\n",
      "            min_impurity_split=1e-07, min_samples_leaf=1,\n",
      "            min_samples_split=2, min_weight_fraction_leaf=0.0,\n",
      "            n_estimators=10, n_jobs=1, oob_score=False, random_state=None,\n",
      "            verbose=0, warm_start=False))\n"
     ]
    }
   ],
   "source": [
    "for i in models:\n",
    "    print i"
   ]
  },
  {
   "cell_type": "code",
   "execution_count": 31,
   "metadata": {
    "collapsed": false
   },
   "outputs": [
    {
     "data": {
      "text/plain": [
       "(700L,)"
      ]
     },
     "execution_count": 31,
     "metadata": {},
     "output_type": "execute_result"
    }
   ],
   "source": [
    "y_train.shape"
   ]
  },
  {
   "cell_type": "code",
   "execution_count": null,
   "metadata": {
    "collapsed": true
   },
   "outputs": [],
   "source": [
    "# Save Model Using Pickle\n",
    "from pickle import dump\n",
    "from pickle import load\n",
    "# Fit the model on 33%\n",
    "model = LogisticRegression()\n",
    "model.fit(X_train, Y_train)\n",
    "# save the model to disk\n",
    "filename = 'finalized_model.sav'\n",
    "dump(model, open(filename, 'wb'))\n",
    "\n",
    "# some time later...\n",
    "# load the model from disk\n",
    "loaded_model = load(open(filename, 'rb'))\n",
    "result = loaded_model.score(X_test, Y_test)\n",
    "print(result)"
   ]
  },
  {
   "cell_type": "code",
   "execution_count": null,
   "metadata": {
    "collapsed": true
   },
   "outputs": [],
   "source": [
    "# Save Model Using joblib\n",
    "from sklearn.externals.joblib import dump\n",
    "from sklearn.externals.joblib import load\n",
    "# save the model to disk\n",
    "filename = 'finalized_model.sav'\n",
    "dump(model, filename)\n",
    "# some time later...\n",
    "# load the model from disk\n",
    "loaded_model = load(filename)\n",
    "result = loaded_model.score(X_test, Y_test)\n",
    "print(result)"
   ]
  },
  {
   "cell_type": "code",
   "execution_count": null,
   "metadata": {
    "collapsed": false
   },
   "outputs": [],
   "source": []
  },
  {
   "cell_type": "code",
   "execution_count": null,
   "metadata": {
    "collapsed": false
   },
   "outputs": [],
   "source": [
    "X_train.daystorecid=np.log(X_train.daystorecid)"
   ]
  },
  {
   "cell_type": "code",
   "execution_count": 173,
   "metadata": {
    "collapsed": false
   },
   "outputs": [
    {
     "ename": "NameError",
     "evalue": "name 'LogisticRegression' is not defined",
     "output_type": "error",
     "traceback": [
      "\u001b[0;31m---------------------------------------------------------------------------\u001b[0m",
      "\u001b[0;31mNameError\u001b[0m                                 Traceback (most recent call last)",
      "\u001b[0;32m<ipython-input-173-f7125e1d6c2e>\u001b[0m in \u001b[0;36m<module>\u001b[0;34m()\u001b[0m\n\u001b[1;32m      1\u001b[0m \u001b[1;31m# Confusion Matrix\u001b[0m\u001b[1;33m\u001b[0m\u001b[1;33m\u001b[0m\u001b[0m\n\u001b[1;32m      2\u001b[0m \u001b[1;32mfrom\u001b[0m \u001b[0msklearn\u001b[0m\u001b[1;33m.\u001b[0m\u001b[0mmetrics\u001b[0m \u001b[1;32mimport\u001b[0m \u001b[0mconfusion_matrix\u001b[0m\u001b[1;33m\u001b[0m\u001b[0m\n\u001b[0;32m----> 3\u001b[0;31m \u001b[0mmodel\u001b[0m \u001b[1;33m=\u001b[0m \u001b[0mLogisticRegression\u001b[0m\u001b[1;33m(\u001b[0m\u001b[1;33m)\u001b[0m\u001b[1;33m\u001b[0m\u001b[0m\n\u001b[0m\u001b[1;32m      4\u001b[0m \u001b[0mmodel\u001b[0m\u001b[1;33m.\u001b[0m\u001b[0mfit\u001b[0m\u001b[1;33m(\u001b[0m\u001b[0mX_train\u001b[0m\u001b[1;33m,\u001b[0m \u001b[0mY_train\u001b[0m\u001b[1;33m)\u001b[0m\u001b[1;33m\u001b[0m\u001b[0m\n\u001b[1;32m      5\u001b[0m \u001b[0mpredicted\u001b[0m \u001b[1;33m=\u001b[0m \u001b[0mmodel\u001b[0m\u001b[1;33m.\u001b[0m\u001b[0mpredict\u001b[0m\u001b[1;33m(\u001b[0m\u001b[0mX_test\u001b[0m\u001b[1;33m)\u001b[0m\u001b[1;33m\u001b[0m\u001b[0m\n",
      "\u001b[0;31mNameError\u001b[0m: name 'LogisticRegression' is not defined"
     ]
    }
   ],
   "source": [
    "# Confusion Matrix\n",
    "from sklearn.metrics import confusion_matrix\n",
    "model = LogisticRegression()\n",
    "model.fit(X_train, Y_train)\n",
    "predicted = model.predict(X_test)\n",
    "matrix = confusion_matrix(Y_test, predicted)\n",
    "print(matrix)"
   ]
  },
  {
   "cell_type": "code",
   "execution_count": 85,
   "metadata": {
    "collapsed": false
   },
   "outputs": [],
   "source": []
  },
  {
   "cell_type": "markdown",
   "metadata": {
    "collapsed": false
   },
   "source": [
    "# Grid Search-1"
   ]
  },
  {
   "cell_type": "code",
   "execution_count": null,
   "metadata": {
    "collapsed": true
   },
   "outputs": [],
   "source": []
  },
  {
   "cell_type": "markdown",
   "metadata": {},
   "source": [
    "# Grid Search-2"
   ]
  },
  {
   "cell_type": "code",
   "execution_count": null,
   "metadata": {
    "collapsed": true
   },
   "outputs": [],
   "source": [
    "from sklearn.grid_search import GridSearchCV\n",
    "GB = GradientBoostingClassifier(random_state=3) param_grid = { \"n_estimators\" : [30, 50, 70, 100, 150, 200, 250], \"learning_rate\" : [0.1, 0.01], \"max_depth\" : [10, 15, 20, 25], \"min_samples_split\" : [8, 9, 10,11] } grid_search = GridSearchCV(estimator=GB, param_grid=param_grid, cv=10, scoring = 'recall') grid_search.fit(X, y) grid_searchprob = (grid_search.predict_proba(X_test )[:,1] > 0.25).astype(int)\n",
    "#summarize results\n",
    "print(\"Best: %f using %s\" % (grid_search.bestscore, grid_search.bestparams, grid_searchprob.bestscore, grid_searchprobparams))"
   ]
  },
  {
   "cell_type": "code",
   "execution_count": null,
   "metadata": {
    "collapsed": true
   },
   "outputs": [],
   "source": [
    "#Classification Report\n",
    "from sklearn.metrics import classification_report GB.fit(X_train, y_train) y_test_hat_gb = GB.predict(X_test) reportgb = classification_report(y_test, y_test_hat_gb) print(reportgb)"
   ]
  },
  {
   "cell_type": "markdown",
   "metadata": {},
   "source": [
    "# Another Parameter Tuning"
   ]
  },
  {
   "cell_type": "code",
   "execution_count": null,
   "metadata": {
    "collapsed": true
   },
   "outputs": [],
   "source": [
    "import seaborn as sns \n",
    "from sklearn.model_selection \n",
    "import cross_val_score \n",
    "from sklearn import cross_validation \n",
    "from matplotlib import pyplot as plt \n",
    "import sklearn.cross_validation \n",
    "\n",
    "\n",
    "scores = [] \n",
    "number_of_trees = [] \n",
    "for val in range(50,110): \n",
    "    model = GradientBoostingClassifier(n_estimators = val, max_depth=15) \n",
    "    validated = cross_val_score(model, X, y, cv=10, scoring ='f1') \n",
    "    scores.append(validated) \n",
    "    number_of_trees.append(val)\n",
    "    \n",
    "scores2 = np.array(scores)\n",
    "plt.figure(figsize=(25,8)) \n",
    "sns.boxplot(number_of_trees, scores) \n",
    "plt.xlabel('Number of Trees') \n",
    "plt.ylabel('Classification Scores') \n",
    "plt.title('Crossvalidated Classification Scores') \n",
    "plt.show()"
   ]
  },
  {
   "cell_type": "code",
   "execution_count": null,
   "metadata": {
    "collapsed": true
   },
   "outputs": [],
   "source": [
    "for i in range(1,60): print scores[i].mean()\n",
    "len(scores)"
   ]
  },
  {
   "cell_type": "code",
   "execution_count": null,
   "metadata": {
    "collapsed": true
   },
   "outputs": [],
   "source": [
    "import seaborn as sns \n",
    "from sklearn.model_selection \n",
    "import cross_val_score \n",
    "from sklearn import cross_validation \n",
    "from matplotlib import pyplot as plt \n",
    "import sklearn.cross_validation \n",
    "\n",
    "from sklearn.ensemble import GradientBoostingClassifier\n",
    "from sklearn import metrics\n",
    "from sklearn.metrics import recall_score\n",
    "from sklearn.metrics import precision_score\n",
    "\n",
    "precision_gb = []\n",
    "recall_gb = []\n",
    "risk = [0.05, 0.08, 0.10, 0.15, 0.20, 0.25, 0.30, 0.40, 0.5,0.6, 0.60, 0.70, 0.90]\n",
    "\n",
    "for i in risk:\n",
    "    GB = GradientBoostingClassifier(n_estimators=70, max_depth=19, min_samples_split=8, random_state=3)\n",
    "    recall_gb.append(cross_val_score(GB, X, y, cv=10, scoring ='recall') )\n",
    "    precision_gb.append(cross_val_score(GB, X, y, cv=10, 'precision'))\n",
    "\n",
    "    y_test_hat_gb = (GB.predict_proba(X_test )[:,1] > i).astype(int)\n",
    "    print \"i=\",i, \"Test_Score:\", (metrics.accuracy_score(y_test, y_test_hat_gb)), \"Hit_Rate:\", (metrics.recall_score(y_test, y_test_hat_gb))\n",
    "    precision_gb.append(metrics.precision_score(y_test, y_test_hat_gb))\n",
    "    recall_gb.append(metrics.recall_score(y_test, y_test_hat_gb))\n",
    "\n",
    "y_train_hat_GB = GB.predict(X_train)\n",
    "print(metrics.accuracy_score(y_train, y_train_hat_GB))\n",
    "print \"Below is Differential Risk\"\n",
    "\n",
    "\n",
    "for i in risk:\n",
    "    y_test_hat_gb = (GB.predict_proba(X_test )[:,1] > i).astype(int)\n",
    "    print \"i=\",i, \"Test_Score:\", (metrics.accuracy_score(y_test, y_test_hat_gb)), \"Hit_Rate:\", (metrics.recall_score(y_test, y_test_hat_gb))\n",
    "    precision_gb.append(metrics.precision_score(y_test, y_test_hat_gb))\n",
    "    recall_gb.append(metrics.recall_score(y_test, y_test_hat_gb))\n",
    "    # predict probability of rearrest\n",
    "y_pred_prob_gb = GB.predict_proba(X_test )[:,1] \n",
    "# calculate AUC\n",
    "print \"AUC:\",metrics.roc_auc_score(y_test, y_pred_prob_gb)"
   ]
  },
  {
   "cell_type": "code",
   "execution_count": 112,
   "metadata": {
    "collapsed": false
   },
   "outputs": [],
   "source": []
  },
  {
   "cell_type": "code",
   "execution_count": 113,
   "metadata": {
    "collapsed": false
   },
   "outputs": [
    {
     "data": {
      "text/plain": [
       "array([ 0.35,  0.4 ,  0.8 ,  2.  ,  8.  ])"
      ]
     },
     "execution_count": 113,
     "metadata": {},
     "output_type": "execute_result"
    }
   ],
   "source": [
    "thresholds"
   ]
  },
  {
   "cell_type": "code",
   "execution_count": 4,
   "metadata": {
    "collapsed": false
   },
   "outputs": [
    {
     "data": {
      "text/plain": [
       "(1000, 567)"
      ]
     },
     "execution_count": 4,
     "metadata": {},
     "output_type": "execute_result"
    }
   ],
   "source": [
    "sof2.shape"
   ]
  },
  {
   "cell_type": "code",
   "execution_count": 5,
   "metadata": {
    "collapsed": false
   },
   "outputs": [
    {
     "data": {
      "text/html": [
       "<div>\n",
       "<table border=\"1\" class=\"dataframe\">\n",
       "  <thead>\n",
       "    <tr style=\"text-align: right;\">\n",
       "      <th></th>\n",
       "      <th>djjid</th>\n",
       "      <th>sexrecidivism</th>\n",
       "      <th>daystorecid</th>\n",
       "      <th>sexrediccharge</th>\n",
       "      <th>youthgender</th>\n",
       "      <th>race_ethnicity</th>\n",
       "      <th>black</th>\n",
       "      <th>hispanic</th>\n",
       "      <th>other</th>\n",
       "      <th>white</th>\n",
       "      <th>...</th>\n",
       "      <th>d12q9a3</th>\n",
       "      <th>d12q10a1</th>\n",
       "      <th>d12q10a2</th>\n",
       "      <th>d12q10a3</th>\n",
       "      <th>d12q10a4</th>\n",
       "      <th>d12q11a1</th>\n",
       "      <th>d12q11a2</th>\n",
       "      <th>d12q11a3</th>\n",
       "      <th>d12q11a4</th>\n",
       "      <th>d12q11a5</th>\n",
       "    </tr>\n",
       "  </thead>\n",
       "  <tbody>\n",
       "    <tr>\n",
       "      <th>0</th>\n",
       "      <td>959713</td>\n",
       "      <td>0</td>\n",
       "      <td>731</td>\n",
       "      <td>NaN</td>\n",
       "      <td>1</td>\n",
       "      <td>1</td>\n",
       "      <td>0</td>\n",
       "      <td>0</td>\n",
       "      <td>0</td>\n",
       "      <td>1</td>\n",
       "      <td>...</td>\n",
       "      <td>0</td>\n",
       "      <td>0</td>\n",
       "      <td>0</td>\n",
       "      <td>1</td>\n",
       "      <td>0</td>\n",
       "      <td>0</td>\n",
       "      <td>0</td>\n",
       "      <td>1</td>\n",
       "      <td>0</td>\n",
       "      <td>0</td>\n",
       "    </tr>\n",
       "    <tr>\n",
       "      <th>1</th>\n",
       "      <td>1067533</td>\n",
       "      <td>1</td>\n",
       "      <td>200</td>\n",
       "      <td>4012.0</td>\n",
       "      <td>1</td>\n",
       "      <td>2</td>\n",
       "      <td>1</td>\n",
       "      <td>0</td>\n",
       "      <td>0</td>\n",
       "      <td>0</td>\n",
       "      <td>...</td>\n",
       "      <td>0</td>\n",
       "      <td>0</td>\n",
       "      <td>0</td>\n",
       "      <td>1</td>\n",
       "      <td>0</td>\n",
       "      <td>0</td>\n",
       "      <td>0</td>\n",
       "      <td>1</td>\n",
       "      <td>0</td>\n",
       "      <td>0</td>\n",
       "    </tr>\n",
       "    <tr>\n",
       "      <th>2</th>\n",
       "      <td>1192431</td>\n",
       "      <td>0</td>\n",
       "      <td>731</td>\n",
       "      <td>NaN</td>\n",
       "      <td>1</td>\n",
       "      <td>1</td>\n",
       "      <td>0</td>\n",
       "      <td>0</td>\n",
       "      <td>0</td>\n",
       "      <td>1</td>\n",
       "      <td>...</td>\n",
       "      <td>0</td>\n",
       "      <td>1</td>\n",
       "      <td>0</td>\n",
       "      <td>0</td>\n",
       "      <td>0</td>\n",
       "      <td>1</td>\n",
       "      <td>0</td>\n",
       "      <td>0</td>\n",
       "      <td>0</td>\n",
       "      <td>0</td>\n",
       "    </tr>\n",
       "    <tr>\n",
       "      <th>3</th>\n",
       "      <td>1179012</td>\n",
       "      <td>0</td>\n",
       "      <td>731</td>\n",
       "      <td>NaN</td>\n",
       "      <td>1</td>\n",
       "      <td>3</td>\n",
       "      <td>0</td>\n",
       "      <td>1</td>\n",
       "      <td>0</td>\n",
       "      <td>0</td>\n",
       "      <td>...</td>\n",
       "      <td>0</td>\n",
       "      <td>0</td>\n",
       "      <td>1</td>\n",
       "      <td>0</td>\n",
       "      <td>0</td>\n",
       "      <td>1</td>\n",
       "      <td>0</td>\n",
       "      <td>0</td>\n",
       "      <td>0</td>\n",
       "      <td>0</td>\n",
       "    </tr>\n",
       "    <tr>\n",
       "      <th>4</th>\n",
       "      <td>587820</td>\n",
       "      <td>1</td>\n",
       "      <td>74</td>\n",
       "      <td>4007.0</td>\n",
       "      <td>1</td>\n",
       "      <td>1</td>\n",
       "      <td>0</td>\n",
       "      <td>0</td>\n",
       "      <td>0</td>\n",
       "      <td>1</td>\n",
       "      <td>...</td>\n",
       "      <td>0</td>\n",
       "      <td>0</td>\n",
       "      <td>1</td>\n",
       "      <td>0</td>\n",
       "      <td>0</td>\n",
       "      <td>0</td>\n",
       "      <td>0</td>\n",
       "      <td>0</td>\n",
       "      <td>1</td>\n",
       "      <td>0</td>\n",
       "    </tr>\n",
       "  </tbody>\n",
       "</table>\n",
       "<p>5 rows × 567 columns</p>\n",
       "</div>"
      ],
      "text/plain": [
       "     djjid  sexrecidivism  daystorecid  sexrediccharge  youthgender  \\\n",
       "0   959713              0          731             NaN            1   \n",
       "1  1067533              1          200          4012.0            1   \n",
       "2  1192431              0          731             NaN            1   \n",
       "3  1179012              0          731             NaN            1   \n",
       "4   587820              1           74          4007.0            1   \n",
       "\n",
       "   race_ethnicity  black  hispanic  other  white   ...     d12q9a3 d12q10a1  \\\n",
       "0               1      0         0      0      1   ...           0        0   \n",
       "1               2      1         0      0      0   ...           0        0   \n",
       "2               1      0         0      0      1   ...           0        1   \n",
       "3               3      0         1      0      0   ...           0        0   \n",
       "4               1      0         0      0      1   ...           0        0   \n",
       "\n",
       "   d12q10a2  d12q10a3  d12q10a4  d12q11a1  d12q11a2  d12q11a3  d12q11a4  \\\n",
       "0         0         1         0         0         0         1         0   \n",
       "1         0         1         0         0         0         1         0   \n",
       "2         0         0         0         1         0         0         0   \n",
       "3         1         0         0         1         0         0         0   \n",
       "4         1         0         0         0         0         0         1   \n",
       "\n",
       "  d12q11a5  \n",
       "0        0  \n",
       "1        0  \n",
       "2        0  \n",
       "3        0  \n",
       "4        0  \n",
       "\n",
       "[5 rows x 567 columns]"
      ]
     },
     "execution_count": 5,
     "metadata": {},
     "output_type": "execute_result"
    }
   ],
   "source": [
    "sof1.head()"
   ]
  },
  {
   "cell_type": "code",
   "execution_count": 6,
   "metadata": {
    "collapsed": false
   },
   "outputs": [
    {
     "data": {
      "text/html": [
       "<div>\n",
       "<table border=\"1\" class=\"dataframe\">\n",
       "  <thead>\n",
       "    <tr style=\"text-align: right;\">\n",
       "      <th></th>\n",
       "      <th>djjid</th>\n",
       "      <th>sexrecidivism</th>\n",
       "      <th>daystorecid</th>\n",
       "      <th>sexrediccharge</th>\n",
       "      <th>youthgender</th>\n",
       "      <th>race_ethnicity</th>\n",
       "      <th>black</th>\n",
       "      <th>hispanic</th>\n",
       "      <th>other</th>\n",
       "      <th>white</th>\n",
       "      <th>...</th>\n",
       "      <th>d12q9a3</th>\n",
       "      <th>d12q10a1</th>\n",
       "      <th>d12q10a2</th>\n",
       "      <th>d12q10a3</th>\n",
       "      <th>d12q10a4</th>\n",
       "      <th>d12q11a1</th>\n",
       "      <th>d12q11a2</th>\n",
       "      <th>d12q11a3</th>\n",
       "      <th>d12q11a4</th>\n",
       "      <th>d12q11a5</th>\n",
       "    </tr>\n",
       "  </thead>\n",
       "  <tbody>\n",
       "    <tr>\n",
       "      <th>0</th>\n",
       "      <td>0.702646</td>\n",
       "      <td>0</td>\n",
       "      <td>78</td>\n",
       "      <td>NaN</td>\n",
       "      <td>1</td>\n",
       "      <td>3</td>\n",
       "      <td>0</td>\n",
       "      <td>1</td>\n",
       "      <td>0</td>\n",
       "      <td>0</td>\n",
       "      <td>...</td>\n",
       "      <td>0</td>\n",
       "      <td>0</td>\n",
       "      <td>0</td>\n",
       "      <td>1</td>\n",
       "      <td>0</td>\n",
       "      <td>0</td>\n",
       "      <td>1</td>\n",
       "      <td>0</td>\n",
       "      <td>0</td>\n",
       "      <td>0</td>\n",
       "    </tr>\n",
       "    <tr>\n",
       "      <th>1</th>\n",
       "      <td>0.115430</td>\n",
       "      <td>0</td>\n",
       "      <td>731</td>\n",
       "      <td>NaN</td>\n",
       "      <td>1</td>\n",
       "      <td>1</td>\n",
       "      <td>0</td>\n",
       "      <td>0</td>\n",
       "      <td>0</td>\n",
       "      <td>1</td>\n",
       "      <td>...</td>\n",
       "      <td>0</td>\n",
       "      <td>0</td>\n",
       "      <td>1</td>\n",
       "      <td>0</td>\n",
       "      <td>0</td>\n",
       "      <td>0</td>\n",
       "      <td>0</td>\n",
       "      <td>0</td>\n",
       "      <td>1</td>\n",
       "      <td>0</td>\n",
       "    </tr>\n",
       "    <tr>\n",
       "      <th>2</th>\n",
       "      <td>0.748953</td>\n",
       "      <td>0</td>\n",
       "      <td>87</td>\n",
       "      <td>NaN</td>\n",
       "      <td>1</td>\n",
       "      <td>1</td>\n",
       "      <td>0</td>\n",
       "      <td>0</td>\n",
       "      <td>0</td>\n",
       "      <td>1</td>\n",
       "      <td>...</td>\n",
       "      <td>0</td>\n",
       "      <td>0</td>\n",
       "      <td>1</td>\n",
       "      <td>0</td>\n",
       "      <td>0</td>\n",
       "      <td>0</td>\n",
       "      <td>1</td>\n",
       "      <td>0</td>\n",
       "      <td>0</td>\n",
       "      <td>0</td>\n",
       "    </tr>\n",
       "    <tr>\n",
       "      <th>3</th>\n",
       "      <td>0.244982</td>\n",
       "      <td>0</td>\n",
       "      <td>160</td>\n",
       "      <td>NaN</td>\n",
       "      <td>1</td>\n",
       "      <td>1</td>\n",
       "      <td>0</td>\n",
       "      <td>0</td>\n",
       "      <td>0</td>\n",
       "      <td>1</td>\n",
       "      <td>...</td>\n",
       "      <td>1</td>\n",
       "      <td>0</td>\n",
       "      <td>0</td>\n",
       "      <td>0</td>\n",
       "      <td>1</td>\n",
       "      <td>0</td>\n",
       "      <td>0</td>\n",
       "      <td>0</td>\n",
       "      <td>0</td>\n",
       "      <td>1</td>\n",
       "    </tr>\n",
       "    <tr>\n",
       "      <th>4</th>\n",
       "      <td>0.269714</td>\n",
       "      <td>0</td>\n",
       "      <td>731</td>\n",
       "      <td>NaN</td>\n",
       "      <td>1</td>\n",
       "      <td>2</td>\n",
       "      <td>1</td>\n",
       "      <td>0</td>\n",
       "      <td>0</td>\n",
       "      <td>0</td>\n",
       "      <td>...</td>\n",
       "      <td>0</td>\n",
       "      <td>1</td>\n",
       "      <td>0</td>\n",
       "      <td>0</td>\n",
       "      <td>0</td>\n",
       "      <td>0</td>\n",
       "      <td>1</td>\n",
       "      <td>0</td>\n",
       "      <td>0</td>\n",
       "      <td>0</td>\n",
       "    </tr>\n",
       "  </tbody>\n",
       "</table>\n",
       "<p>5 rows × 567 columns</p>\n",
       "</div>"
      ],
      "text/plain": [
       "      djjid  sexrecidivism  daystorecid  sexrediccharge  youthgender  \\\n",
       "0  0.702646              0           78             NaN            1   \n",
       "1  0.115430              0          731             NaN            1   \n",
       "2  0.748953              0           87             NaN            1   \n",
       "3  0.244982              0          160             NaN            1   \n",
       "4  0.269714              0          731             NaN            1   \n",
       "\n",
       "   race_ethnicity  black  hispanic  other  white   ...     d12q9a3 d12q10a1  \\\n",
       "0               3      0         1      0      0   ...           0        0   \n",
       "1               1      0         0      0      1   ...           0        0   \n",
       "2               1      0         0      0      1   ...           0        0   \n",
       "3               1      0         0      0      1   ...           1        0   \n",
       "4               2      1         0      0      0   ...           0        1   \n",
       "\n",
       "   d12q10a2  d12q10a3  d12q10a4  d12q11a1  d12q11a2  d12q11a3  d12q11a4  \\\n",
       "0         0         1         0         0         1         0         0   \n",
       "1         1         0         0         0         0         0         1   \n",
       "2         1         0         0         0         1         0         0   \n",
       "3         0         0         1         0         0         0         0   \n",
       "4         0         0         0         0         1         0         0   \n",
       "\n",
       "  d12q11a5  \n",
       "0        0  \n",
       "1        0  \n",
       "2        0  \n",
       "3        1  \n",
       "4        0  \n",
       "\n",
       "[5 rows x 567 columns]"
      ]
     },
     "execution_count": 6,
     "metadata": {},
     "output_type": "execute_result"
    }
   ],
   "source": [
    "sof2.head()"
   ]
  },
  {
   "cell_type": "code",
   "execution_count": 18,
   "metadata": {
    "collapsed": false
   },
   "outputs": [],
   "source": [
    "pd.set_option('display.max_rows', 2000)"
   ]
  },
  {
   "cell_type": "code",
   "execution_count": null,
   "metadata": {
    "collapsed": false
   },
   "outputs": [],
   "source": []
  },
  {
   "cell_type": "code",
   "execution_count": null,
   "metadata": {
    "collapsed": false
   },
   "outputs": [],
   "source": []
  },
  {
   "cell_type": "code",
   "execution_count": null,
   "metadata": {
    "collapsed": true
   },
   "outputs": [],
   "source": []
  }
 ],
 "metadata": {
  "anaconda-cloud": {},
  "kernelspec": {
   "display_name": "Python [py27]",
   "language": "python",
   "name": "Python [py27]"
  },
  "language_info": {
   "codemirror_mode": {
    "name": "ipython",
    "version": 2
   },
   "file_extension": ".py",
   "mimetype": "text/x-python",
   "name": "python",
   "nbconvert_exporter": "python",
   "pygments_lexer": "ipython2",
   "version": "2.7.12"
  }
 },
 "nbformat": 4,
 "nbformat_minor": 0
}
